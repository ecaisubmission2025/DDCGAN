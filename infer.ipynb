{
 "cells": [
  {
   "cell_type": "code",
   "execution_count": 1,
   "metadata": {},
   "outputs": [],
   "source": [
    "import torch\n",
    "import torch.nn as nn\n",
    "import numpy as np\n",
    "import pandas as pd\n",
    "from transformers import AutoTokenizer, AutoModel\n",
    "from torch.nn.functional import normalize\n",
    "from sklearn.metrics.pairwise import cosine_similarity\n",
    "from scipy.spatial.distance import cdist"
   ]
  },
  {
   "cell_type": "code",
   "execution_count": 2,
   "metadata": {},
   "outputs": [
    {
     "name": "stdout",
     "output_type": "stream",
     "text": [
      "cuda\n"
     ]
    }
   ],
   "source": [
    "device = torch.device(\"cuda\" if torch.cuda.is_available() else \"cpu\")\n",
    "print(device)\n",
    "\n",
    "# Dimensions of embeddings\n",
    "embedding_dim = 768"
   ]
  },
  {
   "cell_type": "code",
   "execution_count": 3,
   "metadata": {},
   "outputs": [
    {
     "data": {
      "text/html": [
       "<div>\n",
       "<style scoped>\n",
       "    .dataframe tbody tr th:only-of-type {\n",
       "        vertical-align: middle;\n",
       "    }\n",
       "\n",
       "    .dataframe tbody tr th {\n",
       "        vertical-align: top;\n",
       "    }\n",
       "\n",
       "    .dataframe thead th {\n",
       "        text-align: right;\n",
       "    }\n",
       "</style>\n",
       "<table border=\"1\" class=\"dataframe\">\n",
       "  <thead>\n",
       "    <tr style=\"text-align: right;\">\n",
       "      <th></th>\n",
       "      <th>disease</th>\n",
       "      <th>drug</th>\n",
       "      <th>disease_embedding</th>\n",
       "      <th>drug_embedding</th>\n",
       "    </tr>\n",
       "  </thead>\n",
       "  <tbody>\n",
       "    <tr>\n",
       "      <th>0</th>\n",
       "      <td>21-hydroxylase deficiency</td>\n",
       "      <td>17-alpha-hydroxyprogesterone</td>\n",
       "      <td>[-0.09322444, 0.14657274, 0.2630737, -0.262951...</td>\n",
       "      <td>[-0.19820696, 0.5990576, 0.012646209, 0.000393...</td>\n",
       "    </tr>\n",
       "    <tr>\n",
       "      <th>1</th>\n",
       "      <td>21-hydroxylase deficiency</td>\n",
       "      <td>dexamethasone</td>\n",
       "      <td>[-0.09322444, 0.14657274, 0.2630737, -0.262951...</td>\n",
       "      <td>[-0.39190397, 0.13832054, -0.02711408, 0.05101...</td>\n",
       "    </tr>\n",
       "    <tr>\n",
       "      <th>2</th>\n",
       "      <td>21-hydroxylase deficiency</td>\n",
       "      <td>hydrocortisone</td>\n",
       "      <td>[-0.09322444, 0.14657274, 0.2630737, -0.262951...</td>\n",
       "      <td>[-0.31218493, -0.015504928, -0.069101125, 0.09...</td>\n",
       "    </tr>\n",
       "    <tr>\n",
       "      <th>3</th>\n",
       "      <td>5q-syndrome</td>\n",
       "      <td>lenalidomide</td>\n",
       "      <td>[0.053790092, -0.19379048, 0.11191088, -0.3218...</td>\n",
       "      <td>[-0.14175633, 0.3328832, 0.110642955, -0.09579...</td>\n",
       "    </tr>\n",
       "    <tr>\n",
       "      <th>4</th>\n",
       "      <td>ACTH Syndrome, Ectopic</td>\n",
       "      <td>corticotropin</td>\n",
       "      <td>[-0.26318076, -0.27482936, 0.33002627, -0.5014...</td>\n",
       "      <td>[-0.14670405, 0.15948579, -0.048798714, 0.0340...</td>\n",
       "    </tr>\n",
       "    <tr>\n",
       "      <th>...</th>\n",
       "      <td>...</td>\n",
       "      <td>...</td>\n",
       "      <td>...</td>\n",
       "      <td>...</td>\n",
       "    </tr>\n",
       "    <tr>\n",
       "      <th>18761</th>\n",
       "      <td>vasomotor symptom</td>\n",
       "      <td>fezolinetant</td>\n",
       "      <td>[0.022215698, 0.35601804, 0.041473925, -0.2789...</td>\n",
       "      <td>[-0.035705805, 0.26630142, -0.019500958, 0.047...</td>\n",
       "    </tr>\n",
       "    <tr>\n",
       "      <th>18762</th>\n",
       "      <td>vasomotor symptom</td>\n",
       "      <td>gabapentin</td>\n",
       "      <td>[0.022215698, 0.35601804, 0.041473925, -0.2789...</td>\n",
       "      <td>[-0.08150145, -0.107544206, 0.111592196, -0.01...</td>\n",
       "    </tr>\n",
       "    <tr>\n",
       "      <th>18763</th>\n",
       "      <td>vasomotor symptom</td>\n",
       "      <td>paroxetine</td>\n",
       "      <td>[0.022215698, 0.35601804, 0.041473925, -0.2789...</td>\n",
       "      <td>[-0.04558692, 0.5095056, 0.086280674, 0.170817...</td>\n",
       "    </tr>\n",
       "    <tr>\n",
       "      <th>18764</th>\n",
       "      <td>vasomotor symptom</td>\n",
       "      <td>progesterone</td>\n",
       "      <td>[0.022215698, 0.35601804, 0.041473925, -0.2789...</td>\n",
       "      <td>[-0.26757017, 0.12531605, -0.12637241, -0.0235...</td>\n",
       "    </tr>\n",
       "    <tr>\n",
       "      <th>18765</th>\n",
       "      <td>vasomotor symptom</td>\n",
       "      <td>venlafaxine</td>\n",
       "      <td>[0.022215698, 0.35601804, 0.041473925, -0.2789...</td>\n",
       "      <td>[0.16102375, 0.5103733, 0.013180696, 0.1248195...</td>\n",
       "    </tr>\n",
       "  </tbody>\n",
       "</table>\n",
       "<p>18766 rows × 4 columns</p>\n",
       "</div>"
      ],
      "text/plain": [
       "                         disease                          drug  \\\n",
       "0      21-hydroxylase deficiency  17-alpha-hydroxyprogesterone   \n",
       "1      21-hydroxylase deficiency                 dexamethasone   \n",
       "2      21-hydroxylase deficiency                hydrocortisone   \n",
       "3                    5q-syndrome                  lenalidomide   \n",
       "4         ACTH Syndrome, Ectopic                 corticotropin   \n",
       "...                          ...                           ...   \n",
       "18761          vasomotor symptom                  fezolinetant   \n",
       "18762          vasomotor symptom                    gabapentin   \n",
       "18763          vasomotor symptom                    paroxetine   \n",
       "18764          vasomotor symptom                  progesterone   \n",
       "18765          vasomotor symptom                   venlafaxine   \n",
       "\n",
       "                                       disease_embedding  \\\n",
       "0      [-0.09322444, 0.14657274, 0.2630737, -0.262951...   \n",
       "1      [-0.09322444, 0.14657274, 0.2630737, -0.262951...   \n",
       "2      [-0.09322444, 0.14657274, 0.2630737, -0.262951...   \n",
       "3      [0.053790092, -0.19379048, 0.11191088, -0.3218...   \n",
       "4      [-0.26318076, -0.27482936, 0.33002627, -0.5014...   \n",
       "...                                                  ...   \n",
       "18761  [0.022215698, 0.35601804, 0.041473925, -0.2789...   \n",
       "18762  [0.022215698, 0.35601804, 0.041473925, -0.2789...   \n",
       "18763  [0.022215698, 0.35601804, 0.041473925, -0.2789...   \n",
       "18764  [0.022215698, 0.35601804, 0.041473925, -0.2789...   \n",
       "18765  [0.022215698, 0.35601804, 0.041473925, -0.2789...   \n",
       "\n",
       "                                          drug_embedding  \n",
       "0      [-0.19820696, 0.5990576, 0.012646209, 0.000393...  \n",
       "1      [-0.39190397, 0.13832054, -0.02711408, 0.05101...  \n",
       "2      [-0.31218493, -0.015504928, -0.069101125, 0.09...  \n",
       "3      [-0.14175633, 0.3328832, 0.110642955, -0.09579...  \n",
       "4      [-0.14670405, 0.15948579, -0.048798714, 0.0340...  \n",
       "...                                                  ...  \n",
       "18761  [-0.035705805, 0.26630142, -0.019500958, 0.047...  \n",
       "18762  [-0.08150145, -0.107544206, 0.111592196, -0.01...  \n",
       "18763  [-0.04558692, 0.5095056, 0.086280674, 0.170817...  \n",
       "18764  [-0.26757017, 0.12531605, -0.12637241, -0.0235...  \n",
       "18765  [0.16102375, 0.5103733, 0.013180696, 0.1248195...  \n",
       "\n",
       "[18766 rows x 4 columns]"
      ]
     },
     "execution_count": 3,
     "metadata": {},
     "output_type": "execute_result"
    }
   ],
   "source": [
    "df = pd.read_parquet(\"data/final_data_cleaned.parquet\", engine='pyarrow')\n",
    "df"
   ]
  },
  {
   "cell_type": "code",
   "execution_count": 4,
   "metadata": {},
   "outputs": [],
   "source": [
    "def split_dataframe(df, random_seed=42):\n",
    "    # For reproducibility\n",
    "    np.random.seed(random_seed)\n",
    "\n",
    "    df_train = pd.DataFrame(columns=df.columns)\n",
    "    df_test = pd.DataFrame(columns=df.columns)\n",
    "    \n",
    "    disease_counts = df.groupby('disease').size()\n",
    "    \n",
    "    processed_diseases = set()\n",
    "    \n",
    "    # For each possible number of prescriptions (1 to 10)\n",
    "    for n_prescriptions in range(1, 11):\n",
    "        # Get diseases with exactly n prescriptions\n",
    "        diseases_with_n = disease_counts[disease_counts == n_prescriptions].index.tolist()\n",
    "        \n",
    "        if len(diseases_with_n) > 0:\n",
    "            # Calculate number of diseases to move to test set (10%, minimum 1)\n",
    "            n_to_test = max(1, int(np.ceil(len(diseases_with_n) * 0.1)))\n",
    "            \n",
    "            # Randomly select diseases for test set\n",
    "            test_diseases = np.random.choice(diseases_with_n, \n",
    "                                          size=n_to_test, \n",
    "                                          replace=False)\n",
    "            \n",
    "            # Add to test set\n",
    "            test_mask = df['disease'].isin(test_diseases)\n",
    "            df_test = pd.concat([df_test, df[test_mask]])\n",
    "            \n",
    "            # Add remaining to train set\n",
    "            train_mask = df['disease'].isin(diseases_with_n) & ~df['disease'].isin(test_diseases)\n",
    "            df_train = pd.concat([df_train, df[train_mask]])\n",
    "            \n",
    "            # Add to processed diseases\n",
    "            processed_diseases.update(diseases_with_n)\n",
    "    \n",
    "    assert len(processed_diseases) == len(disease_counts), \"Not all diseases were processed\"\n",
    "    assert len(df) == len(df_train) + len(df_test), \"Row counts don't match\"\n",
    "    \n",
    "    return df_train.reset_index(drop=True), df_test.reset_index(drop=True)\n",
    "\n",
    "df, df_test_filtered = split_dataframe(df, random_seed=42)"
   ]
  },
  {
   "cell_type": "code",
   "execution_count": 5,
   "metadata": {},
   "outputs": [],
   "source": [
    "# Shuffle df_train and df_test\n",
    "df = df.sample(frac=1, random_state=42).reset_index(drop=True)\n",
    "df_test_filtered = df_test_filtered.sample(frac=1, random_state=42).reset_index(drop=True)"
   ]
  },
  {
   "cell_type": "code",
   "execution_count": 6,
   "metadata": {},
   "outputs": [
    {
     "data": {
      "text/html": [
       "<div>\n",
       "<style scoped>\n",
       "    .dataframe tbody tr th:only-of-type {\n",
       "        vertical-align: middle;\n",
       "    }\n",
       "\n",
       "    .dataframe tbody tr th {\n",
       "        vertical-align: top;\n",
       "    }\n",
       "\n",
       "    .dataframe thead th {\n",
       "        text-align: right;\n",
       "    }\n",
       "</style>\n",
       "<table border=\"1\" class=\"dataframe\">\n",
       "  <thead>\n",
       "    <tr style=\"text-align: right;\">\n",
       "      <th></th>\n",
       "      <th>disease</th>\n",
       "      <th>drug</th>\n",
       "      <th>disease_embedding</th>\n",
       "      <th>drug_embedding</th>\n",
       "    </tr>\n",
       "  </thead>\n",
       "  <tbody>\n",
       "    <tr>\n",
       "      <th>0</th>\n",
       "      <td>Shigellosis</td>\n",
       "      <td>ceftriaxone</td>\n",
       "      <td>[-0.17925695, 0.093315504, 0.14118157, -0.0423...</td>\n",
       "      <td>[0.18962991, 0.13530359, 0.024884265, 0.036119...</td>\n",
       "    </tr>\n",
       "    <tr>\n",
       "      <th>1</th>\n",
       "      <td>Diabetic Peripheral Neuropathy</td>\n",
       "      <td>gabapentin</td>\n",
       "      <td>[0.27419174, 0.021408416, 0.15780602, -0.17473...</td>\n",
       "      <td>[-0.08150145, -0.107544206, 0.111592196, -0.01...</td>\n",
       "    </tr>\n",
       "    <tr>\n",
       "      <th>2</th>\n",
       "      <td>Common Migraine</td>\n",
       "      <td>zavegepant</td>\n",
       "      <td>[-0.2348871, -0.12846316, 0.22506504, -0.36667...</td>\n",
       "      <td>[0.061711952, 0.07011112, -0.10979448, 0.27578...</td>\n",
       "    </tr>\n",
       "    <tr>\n",
       "      <th>3</th>\n",
       "      <td>Systemic mycosis</td>\n",
       "      <td>amphotericin B</td>\n",
       "      <td>[0.083499566, 0.051283106, 0.1795818, -0.31725...</td>\n",
       "      <td>[0.1292809, 0.24959983, 0.037212547, 0.1430497...</td>\n",
       "    </tr>\n",
       "    <tr>\n",
       "      <th>4</th>\n",
       "      <td>Malignant tumor of parathyroid gland</td>\n",
       "      <td>cinacalcet</td>\n",
       "      <td>[-0.11646998, -0.16838503, 0.2693627, -0.24781...</td>\n",
       "      <td>[-0.08332437, 0.21648774, -0.036853496, -0.022...</td>\n",
       "    </tr>\n",
       "    <tr>\n",
       "      <th>...</th>\n",
       "      <td>...</td>\n",
       "      <td>...</td>\n",
       "      <td>...</td>\n",
       "      <td>...</td>\n",
       "    </tr>\n",
       "    <tr>\n",
       "      <th>16863</th>\n",
       "      <td>Urethritis</td>\n",
       "      <td>erythromycin estolate</td>\n",
       "      <td>[0.31411487, 0.3275367, 0.13985643, -0.0139704...</td>\n",
       "      <td>[-0.018034114, 0.1684173, -0.14231458, 0.11360...</td>\n",
       "    </tr>\n",
       "    <tr>\n",
       "      <th>16864</th>\n",
       "      <td>Chronic pain</td>\n",
       "      <td>fentanyl</td>\n",
       "      <td>[0.13405961, 0.14006968, 0.36103272, -0.153927...</td>\n",
       "      <td>[-0.20299998, 0.049612034, -0.20746674, 0.1787...</td>\n",
       "    </tr>\n",
       "    <tr>\n",
       "      <th>16865</th>\n",
       "      <td>Strongyloidiasis</td>\n",
       "      <td>thiabendazole</td>\n",
       "      <td>[-0.028201543, 0.2958583, 0.19486448, 0.039303...</td>\n",
       "      <td>[0.106388256, 0.24386232, 0.2922835, -0.151420...</td>\n",
       "    </tr>\n",
       "    <tr>\n",
       "      <th>16866</th>\n",
       "      <td>Mercury Poisoning, Nervous System</td>\n",
       "      <td>dimercaprol</td>\n",
       "      <td>[0.3841246, -0.1792188, 0.5426179, -0.35204807...</td>\n",
       "      <td>[-0.26254827, 0.077304736, -0.06569935, 0.1721...</td>\n",
       "    </tr>\n",
       "    <tr>\n",
       "      <th>16867</th>\n",
       "      <td>Pancreatic Cancer</td>\n",
       "      <td>olaparib</td>\n",
       "      <td>[0.036154125, -0.18667391, -0.2787679, -0.0700...</td>\n",
       "      <td>[-0.033951413, 0.33772942, 0.10909607, -0.1277...</td>\n",
       "    </tr>\n",
       "  </tbody>\n",
       "</table>\n",
       "<p>16868 rows × 4 columns</p>\n",
       "</div>"
      ],
      "text/plain": [
       "                                    disease                   drug  \\\n",
       "0                               Shigellosis            ceftriaxone   \n",
       "1            Diabetic Peripheral Neuropathy             gabapentin   \n",
       "2                           Common Migraine             zavegepant   \n",
       "3                          Systemic mycosis         amphotericin B   \n",
       "4      Malignant tumor of parathyroid gland             cinacalcet   \n",
       "...                                     ...                    ...   \n",
       "16863                            Urethritis  erythromycin estolate   \n",
       "16864                          Chronic pain               fentanyl   \n",
       "16865                      Strongyloidiasis          thiabendazole   \n",
       "16866     Mercury Poisoning, Nervous System            dimercaprol   \n",
       "16867                     Pancreatic Cancer               olaparib   \n",
       "\n",
       "                                       disease_embedding  \\\n",
       "0      [-0.17925695, 0.093315504, 0.14118157, -0.0423...   \n",
       "1      [0.27419174, 0.021408416, 0.15780602, -0.17473...   \n",
       "2      [-0.2348871, -0.12846316, 0.22506504, -0.36667...   \n",
       "3      [0.083499566, 0.051283106, 0.1795818, -0.31725...   \n",
       "4      [-0.11646998, -0.16838503, 0.2693627, -0.24781...   \n",
       "...                                                  ...   \n",
       "16863  [0.31411487, 0.3275367, 0.13985643, -0.0139704...   \n",
       "16864  [0.13405961, 0.14006968, 0.36103272, -0.153927...   \n",
       "16865  [-0.028201543, 0.2958583, 0.19486448, 0.039303...   \n",
       "16866  [0.3841246, -0.1792188, 0.5426179, -0.35204807...   \n",
       "16867  [0.036154125, -0.18667391, -0.2787679, -0.0700...   \n",
       "\n",
       "                                          drug_embedding  \n",
       "0      [0.18962991, 0.13530359, 0.024884265, 0.036119...  \n",
       "1      [-0.08150145, -0.107544206, 0.111592196, -0.01...  \n",
       "2      [0.061711952, 0.07011112, -0.10979448, 0.27578...  \n",
       "3      [0.1292809, 0.24959983, 0.037212547, 0.1430497...  \n",
       "4      [-0.08332437, 0.21648774, -0.036853496, -0.022...  \n",
       "...                                                  ...  \n",
       "16863  [-0.018034114, 0.1684173, -0.14231458, 0.11360...  \n",
       "16864  [-0.20299998, 0.049612034, -0.20746674, 0.1787...  \n",
       "16865  [0.106388256, 0.24386232, 0.2922835, -0.151420...  \n",
       "16866  [-0.26254827, 0.077304736, -0.06569935, 0.1721...  \n",
       "16867  [-0.033951413, 0.33772942, 0.10909607, -0.1277...  \n",
       "\n",
       "[16868 rows x 4 columns]"
      ]
     },
     "execution_count": 6,
     "metadata": {},
     "output_type": "execute_result"
    }
   ],
   "source": [
    "df"
   ]
  },
  {
   "cell_type": "code",
   "execution_count": 7,
   "metadata": {},
   "outputs": [
    {
     "data": {
      "text/html": [
       "<div>\n",
       "<style scoped>\n",
       "    .dataframe tbody tr th:only-of-type {\n",
       "        vertical-align: middle;\n",
       "    }\n",
       "\n",
       "    .dataframe tbody tr th {\n",
       "        vertical-align: top;\n",
       "    }\n",
       "\n",
       "    .dataframe thead th {\n",
       "        text-align: right;\n",
       "    }\n",
       "</style>\n",
       "<table border=\"1\" class=\"dataframe\">\n",
       "  <thead>\n",
       "    <tr style=\"text-align: right;\">\n",
       "      <th></th>\n",
       "      <th>disease</th>\n",
       "      <th>drug</th>\n",
       "      <th>disease_embedding</th>\n",
       "      <th>drug_embedding</th>\n",
       "    </tr>\n",
       "  </thead>\n",
       "  <tbody>\n",
       "    <tr>\n",
       "      <th>0</th>\n",
       "      <td>OPIOID TOLERANCE</td>\n",
       "      <td>fentanyl</td>\n",
       "      <td>[-0.12380553, 0.24230061, 0.14066729, -0.01755...</td>\n",
       "      <td>[-0.20299998, 0.049612034, -0.20746674, 0.1787...</td>\n",
       "    </tr>\n",
       "    <tr>\n",
       "      <th>1</th>\n",
       "      <td>Urolithiasis</td>\n",
       "      <td>tamsulosin</td>\n",
       "      <td>[0.015423108, 0.3084482, 0.2079388, -0.2220752...</td>\n",
       "      <td>[0.17083947, 0.603384, -0.13388242, 0.05305582...</td>\n",
       "    </tr>\n",
       "    <tr>\n",
       "      <th>2</th>\n",
       "      <td>Lymphoma, Follicular</td>\n",
       "      <td>umbralisib</td>\n",
       "      <td>[-0.16385096, -0.30995056, 0.07767179, -0.2071...</td>\n",
       "      <td>[-0.044071615, -0.013846768, 0.1444283, -0.094...</td>\n",
       "    </tr>\n",
       "    <tr>\n",
       "      <th>3</th>\n",
       "      <td>Advanced Hepatocellular Carcinoma</td>\n",
       "      <td>lenvatinib</td>\n",
       "      <td>[0.1980408, 0.09689286, -0.16902849, -0.108710...</td>\n",
       "      <td>[0.00023591526, 0.1208497, 0.20754297, -0.2127...</td>\n",
       "    </tr>\n",
       "    <tr>\n",
       "      <th>4</th>\n",
       "      <td>Pericardial effusion co-occurrent and due to m...</td>\n",
       "      <td>bleomycin</td>\n",
       "      <td>[-0.025269533, 0.008863041, -0.1388683, -0.019...</td>\n",
       "      <td>[-0.18694587, 0.13150674, 0.008723415, -0.0926...</td>\n",
       "    </tr>\n",
       "    <tr>\n",
       "      <th>...</th>\n",
       "      <td>...</td>\n",
       "      <td>...</td>\n",
       "      <td>...</td>\n",
       "      <td>...</td>\n",
       "    </tr>\n",
       "    <tr>\n",
       "      <th>1893</th>\n",
       "      <td>Bulimia</td>\n",
       "      <td>fluoxetine hydrochloride</td>\n",
       "      <td>[-0.12157645, -0.026235884, -0.017002245, 0.23...</td>\n",
       "      <td>[-0.12374182, 0.5025294, 0.06577464, -0.002481...</td>\n",
       "    </tr>\n",
       "    <tr>\n",
       "      <th>1894</th>\n",
       "      <td>AIDS with Kaposi's sarcoma</td>\n",
       "      <td>paclitaxel</td>\n",
       "      <td>[-0.08204432, 0.04230188, -0.05801783, -0.4442...</td>\n",
       "      <td>[-0.031103916, 0.4158533, -0.0920613, 0.080813...</td>\n",
       "    </tr>\n",
       "    <tr>\n",
       "      <th>1895</th>\n",
       "      <td>Pituitary Adenoma</td>\n",
       "      <td>Endostatins</td>\n",
       "      <td>[0.021202672, 0.120926805, -0.0037852854, -0.1...</td>\n",
       "      <td>[-0.1662487, 0.30463144, 0.11857961, 0.0526934...</td>\n",
       "    </tr>\n",
       "    <tr>\n",
       "      <th>1896</th>\n",
       "      <td>Nausea/Vomiting, Chemotherapy Induced</td>\n",
       "      <td>dexamethasone</td>\n",
       "      <td>[0.123240806, -0.1336841, -0.008411284, -0.318...</td>\n",
       "      <td>[-0.39190397, 0.13832054, -0.02711408, 0.05101...</td>\n",
       "    </tr>\n",
       "    <tr>\n",
       "      <th>1897</th>\n",
       "      <td>Anxiety and Stress</td>\n",
       "      <td>venlafaxine</td>\n",
       "      <td>[-0.04795521, -0.09160808, 0.16870129, -0.3172...</td>\n",
       "      <td>[0.16102375, 0.5103733, 0.013180696, 0.1248195...</td>\n",
       "    </tr>\n",
       "  </tbody>\n",
       "</table>\n",
       "<p>1898 rows × 4 columns</p>\n",
       "</div>"
      ],
      "text/plain": [
       "                                                disease  \\\n",
       "0                                      OPIOID TOLERANCE   \n",
       "1                                          Urolithiasis   \n",
       "2                                  Lymphoma, Follicular   \n",
       "3                     Advanced Hepatocellular Carcinoma   \n",
       "4     Pericardial effusion co-occurrent and due to m...   \n",
       "...                                                 ...   \n",
       "1893                                            Bulimia   \n",
       "1894                         AIDS with Kaposi's sarcoma   \n",
       "1895                                  Pituitary Adenoma   \n",
       "1896              Nausea/Vomiting, Chemotherapy Induced   \n",
       "1897                                 Anxiety and Stress   \n",
       "\n",
       "                          drug  \\\n",
       "0                     fentanyl   \n",
       "1                   tamsulosin   \n",
       "2                   umbralisib   \n",
       "3                   lenvatinib   \n",
       "4                    bleomycin   \n",
       "...                        ...   \n",
       "1893  fluoxetine hydrochloride   \n",
       "1894                paclitaxel   \n",
       "1895               Endostatins   \n",
       "1896             dexamethasone   \n",
       "1897               venlafaxine   \n",
       "\n",
       "                                      disease_embedding  \\\n",
       "0     [-0.12380553, 0.24230061, 0.14066729, -0.01755...   \n",
       "1     [0.015423108, 0.3084482, 0.2079388, -0.2220752...   \n",
       "2     [-0.16385096, -0.30995056, 0.07767179, -0.2071...   \n",
       "3     [0.1980408, 0.09689286, -0.16902849, -0.108710...   \n",
       "4     [-0.025269533, 0.008863041, -0.1388683, -0.019...   \n",
       "...                                                 ...   \n",
       "1893  [-0.12157645, -0.026235884, -0.017002245, 0.23...   \n",
       "1894  [-0.08204432, 0.04230188, -0.05801783, -0.4442...   \n",
       "1895  [0.021202672, 0.120926805, -0.0037852854, -0.1...   \n",
       "1896  [0.123240806, -0.1336841, -0.008411284, -0.318...   \n",
       "1897  [-0.04795521, -0.09160808, 0.16870129, -0.3172...   \n",
       "\n",
       "                                         drug_embedding  \n",
       "0     [-0.20299998, 0.049612034, -0.20746674, 0.1787...  \n",
       "1     [0.17083947, 0.603384, -0.13388242, 0.05305582...  \n",
       "2     [-0.044071615, -0.013846768, 0.1444283, -0.094...  \n",
       "3     [0.00023591526, 0.1208497, 0.20754297, -0.2127...  \n",
       "4     [-0.18694587, 0.13150674, 0.008723415, -0.0926...  \n",
       "...                                                 ...  \n",
       "1893  [-0.12374182, 0.5025294, 0.06577464, -0.002481...  \n",
       "1894  [-0.031103916, 0.4158533, -0.0920613, 0.080813...  \n",
       "1895  [-0.1662487, 0.30463144, 0.11857961, 0.0526934...  \n",
       "1896  [-0.39190397, 0.13832054, -0.02711408, 0.05101...  \n",
       "1897  [0.16102375, 0.5103733, 0.013180696, 0.1248195...  \n",
       "\n",
       "[1898 rows x 4 columns]"
      ]
     },
     "execution_count": 7,
     "metadata": {},
     "output_type": "execute_result"
    }
   ],
   "source": [
    "df_test_filtered"
   ]
  },
  {
   "cell_type": "code",
   "execution_count": 8,
   "metadata": {},
   "outputs": [],
   "source": [
    "class Generator(nn.Module):\n",
    "    def __init__(self):\n",
    "        super(Generator, self).__init__()\n",
    "        self.model = nn.Sequential(\n",
    "            nn.Linear(embedding_dim, 1024),\n",
    "            nn.LayerNorm(1024),\n",
    "            nn.LeakyReLU(0.2),\n",
    "            nn.Dropout(0.3),\n",
    "            \n",
    "            nn.Linear(1024, 512),\n",
    "            nn.LayerNorm(512),\n",
    "            nn.LeakyReLU(0.2),\n",
    "            nn.Dropout(0.3),\n",
    "            \n",
    "            nn.Linear(512, embedding_dim),\n",
    "            nn.LayerNorm(embedding_dim),\n",
    "            nn.Tanh()\n",
    "        )\n",
    "    \n",
    "    def forward(self, disease_embedding):\n",
    "        return self.model(disease_embedding)"
   ]
  },
  {
   "cell_type": "code",
   "execution_count": 9,
   "metadata": {},
   "outputs": [
    {
     "data": {
      "text/plain": [
       "Generator(\n",
       "  (model): Sequential(\n",
       "    (0): Linear(in_features=768, out_features=1024, bias=True)\n",
       "    (1): LayerNorm((1024,), eps=1e-05, elementwise_affine=True)\n",
       "    (2): LeakyReLU(negative_slope=0.2)\n",
       "    (3): Dropout(p=0.3, inplace=False)\n",
       "    (4): Linear(in_features=1024, out_features=512, bias=True)\n",
       "    (5): LayerNorm((512,), eps=1e-05, elementwise_affine=True)\n",
       "    (6): LeakyReLU(negative_slope=0.2)\n",
       "    (7): Dropout(p=0.3, inplace=False)\n",
       "    (8): Linear(in_features=512, out_features=768, bias=True)\n",
       "    (9): LayerNorm((768,), eps=1e-05, elementwise_affine=True)\n",
       "    (10): Tanh()\n",
       "  )\n",
       ")"
      ]
     },
     "execution_count": 9,
     "metadata": {},
     "output_type": "execute_result"
    }
   ],
   "source": [
    "generator = Generator().to(device)\n",
    "\n",
    "generator.load_state_dict(torch.load('models/generator_63_17.pth', weights_only=True))\n",
    "\n",
    "generator.eval()"
   ]
  },
  {
   "cell_type": "code",
   "execution_count": 10,
   "metadata": {},
   "outputs": [],
   "source": [
    "# Load the tokenizer and bert_model, and move the bert_model to the specified device\n",
    "model_name = \"microsoft/BiomedNLP-BiomedBERT-base-uncased-abstract-fulltext\"\n",
    "tokenizer = AutoTokenizer.from_pretrained(model_name)\n",
    "bert_model = AutoModel.from_pretrained(model_name).to(device)\n",
    "\n",
    "def compute_embeddings(text, tokenizer, bert_model, device):\n",
    "    inputs = tokenizer(text, return_tensors='pt', truncation=True, padding=True, max_length=64).to(device)\n",
    "    \n",
    "    with torch.no_grad():\n",
    "        outputs = bert_model(**inputs)\n",
    "    \n",
    "    # Get the embeddings (the [CLS] token), then move them back to CPU and convert to numpy\n",
    "    embeddings = outputs.last_hidden_state[:, 0, :].cpu().squeeze().numpy()\n",
    "    return embeddings"
   ]
  },
  {
   "cell_type": "code",
   "execution_count": 11,
   "metadata": {},
   "outputs": [],
   "source": [
    "def generate_drug(disease_embedding):\n",
    "    if not isinstance(disease_embedding, torch.Tensor):\n",
    "        disease_embedding = torch.tensor(\n",
    "            disease_embedding, \n",
    "            dtype=torch.float32\n",
    "        ).to(device)\n",
    "    \n",
    "    if len(disease_embedding.shape) == 1:\n",
    "        disease_embedding = disease_embedding.unsqueeze(0)\n",
    "    \n",
    "    # Normalize input\n",
    "    disease_embedding = nn.functional.normalize(disease_embedding, dim=1)\n",
    "    \n",
    "    with torch.no_grad():\n",
    "        generated_drug = generator(disease_embedding)\n",
    "        generated_drug = nn.functional.normalize(generated_drug, dim=1)\n",
    "    \n",
    "    return generated_drug"
   ]
  },
  {
   "cell_type": "code",
   "execution_count": 12,
   "metadata": {},
   "outputs": [],
   "source": [
    "def find_most_similar_drugs(disease_name, combined_df, tokenizer, bert_model, device, top_n=5):\n",
    "    # Drop duplicate drugs\n",
    "    combined_df = combined_df.drop_duplicates(subset=[\"drug\"])\n",
    "\n",
    "    # Generate the disease embedding\n",
    "    disease_embedding = compute_embeddings(disease_name, tokenizer, bert_model, device)\n",
    "    disease_embedding = torch.tensor(disease_embedding, dtype=torch.float32).to(device)\n",
    "    disease_embedding = disease_embedding.unsqueeze(0)\n",
    "    \n",
    "    # Generate drug embedding\n",
    "    generated_drug_embedding = generate_drug(disease_embedding).cpu().numpy()\n",
    "    \n",
    "    # Normalize all drug embeddings\n",
    "    drug_embeddings = np.vstack(combined_df[\"drug_embedding\"].values)\n",
    "    drug_embeddings = normalize(torch.tensor(drug_embeddings), dim=1).numpy()\n",
    "    \n",
    "    # Calculate cosine similarity and rank\n",
    "    similarities = cosine_similarity(generated_drug_embedding, drug_embeddings)\n",
    "    cosine_ranks = np.argsort(similarities[0])[::-1]  # Sort descending (higher similarity is better)\n",
    "    \n",
    "    # Calculate Euclidean distance and rank\n",
    "    euclidean_distances = cdist(generated_drug_embedding, drug_embeddings, metric=\"euclidean\")[0]\n",
    "    euclidean_ranks = np.argsort(euclidean_distances)  # Sort ascending (lower distance is better)\n",
    "    \n",
    "    # Calculate Manhattan distance and rank\n",
    "    manhattan_distances = cdist(generated_drug_embedding, drug_embeddings, metric=\"cityblock\")[0]\n",
    "    manhattan_ranks = np.argsort(manhattan_distances)  # Sort ascending (lower distance is better)\n",
    "    \n",
    "    # Calculate total ranks for each drug\n",
    "    total_ranks = {i: (np.where(cosine_ranks == i)[0][0] + \n",
    "                       np.where(euclidean_ranks == i)[0][0] + \n",
    "                       np.where(manhattan_ranks == i)[0][0]) for i in range(len(combined_df))}\n",
    "    \n",
    "    # Sort drugs by total rank and select top-n\n",
    "    sorted_drug_indices = sorted(total_ranks, key=total_ranks.get)[:top_n]\n",
    "    top_drugs = combined_df.iloc[sorted_drug_indices][\"drug\"].tolist()\n",
    "    \n",
    "    return top_drugs"
   ]
  },
  {
   "cell_type": "code",
   "execution_count": 13,
   "metadata": {},
   "outputs": [],
   "source": [
    "def evaluate_multiple_accuracy(df_eval, df_combined, disease_drug_map, tokenizer, bert_model, device, top_n=5):\n",
    "    \"\"\"\n",
    "    Evaluate accuracy by checking if any of the top N predicted drugs match\n",
    "    the actual drugs that treat the disease.\n",
    "    \"\"\"\n",
    "    correct_predictions = 0\n",
    "    \n",
    "    for _, row in df_eval.iterrows():\n",
    "        disease_name = row['disease']\n",
    "        \n",
    "        predicted_drugs = find_most_similar_drugs(\n",
    "            disease_name,\n",
    "            df_combined,\n",
    "            tokenizer,\n",
    "            bert_model,\n",
    "            device,\n",
    "            top_n=top_n\n",
    "        )\n",
    "        \n",
    "        # Check if any of the predicted drugs are in the set of valid drugs for this disease\n",
    "        if any(predicted_drug in disease_drug_map[disease_name] for predicted_drug in predicted_drugs):\n",
    "            correct_predictions += 1\n",
    "            \n",
    "    accuracy = correct_predictions / len(df_eval)\n",
    "    return accuracy"
   ]
  },
  {
   "cell_type": "code",
   "execution_count": 14,
   "metadata": {},
   "outputs": [
    {
     "name": "stdout",
     "output_type": "stream",
     "text": [
      "(18766, 4)\n"
     ]
    }
   ],
   "source": [
    "df_combined = pd.concat([df, df_test_filtered], ignore_index=True)\n",
    "print(df_combined.shape)"
   ]
  },
  {
   "cell_type": "code",
   "execution_count": 15,
   "metadata": {},
   "outputs": [
    {
     "name": "stdout",
     "output_type": "stream",
     "text": [
      "(56214, 2)\n"
     ]
    }
   ],
   "source": [
    "drug_dataset = pd.read_csv(\"data/final_data.csv\")\n",
    "print(drug_dataset.shape)"
   ]
  },
  {
   "cell_type": "code",
   "execution_count": 16,
   "metadata": {},
   "outputs": [],
   "source": [
    "disease_drug_map = {}\n",
    "\n",
    "for disease in drug_dataset['disease'].unique():\n",
    "    disease_drugs = drug_dataset[drug_dataset['disease'] == disease]['drug'].unique()\n",
    "    disease_drug_map[disease] = set(disease_drugs)"
   ]
  },
  {
   "cell_type": "code",
   "execution_count": 17,
   "metadata": {},
   "outputs": [
    {
     "name": "stdout",
     "output_type": "stream",
     "text": [
      "Test accuracy: 49.11%\n"
     ]
    }
   ],
   "source": [
    "df_test_filtered = df_test_filtered.drop_duplicates(subset=[\"disease\"]).reset_index(drop=True)\n",
    "\n",
    "test_accuracy = evaluate_multiple_accuracy(\n",
    "    df_test_filtered,\n",
    "    df_combined,\n",
    "    disease_drug_map,\n",
    "    tokenizer,\n",
    "    bert_model,\n",
    "    device,\n",
    "    top_n=5\n",
    ")\n",
    "print(f\"Test accuracy: {test_accuracy:.2%}\")"
   ]
  },
  {
   "cell_type": "code",
   "execution_count": 18,
   "metadata": {},
   "outputs": [],
   "source": [
    "def calculate_mrr(df_eval, df_combined, disease_drug_map, tokenizer, bert_model, device, top_n=5):\n",
    "    \"\"\"\n",
    "    Calculate the Mean Reciprocal Rank (MRR) for the predicted drugs.\n",
    "    \"\"\"\n",
    "    reciprocal_ranks = []\n",
    "\n",
    "    for _, row in df_eval.iterrows():\n",
    "        disease_name = row['disease']\n",
    "        \n",
    "        predicted_drugs = find_most_similar_drugs(\n",
    "            disease_name,\n",
    "            df_combined,\n",
    "            tokenizer,\n",
    "            bert_model,\n",
    "            device,\n",
    "            top_n=top_n\n",
    "        )\n",
    "        \n",
    "        # Find the rank of the first correct drug in the predicted list\n",
    "        correct_drugs = disease_drug_map[disease_name]\n",
    "        rank = 0\n",
    "        \n",
    "        # Check for the first correct drug in the top N predictions\n",
    "        for idx, predicted_drug in enumerate(predicted_drugs):\n",
    "            if predicted_drug in correct_drugs:\n",
    "                rank = idx + 1  # 1-based index for rank\n",
    "                break\n",
    "        \n",
    "        # If no correct drug is found, the rank remains 0\n",
    "        if rank > 0:\n",
    "            reciprocal_ranks.append(1 / rank)\n",
    "        else:\n",
    "            reciprocal_ranks.append(0)  # No correct drug found in the top-N list\n",
    "    \n",
    "    mrr = sum(reciprocal_ranks) / len(df_eval)\n",
    "    return mrr"
   ]
  },
  {
   "cell_type": "code",
   "execution_count": 19,
   "metadata": {},
   "outputs": [
    {
     "name": "stdout",
     "output_type": "stream",
     "text": [
      "Mean Reciprocal Rank (MRR): 0.367\n"
     ]
    }
   ],
   "source": [
    "mrr = calculate_mrr(\n",
    "    df_test_filtered,\n",
    "    df_combined,\n",
    "    disease_drug_map,\n",
    "    tokenizer,\n",
    "    bert_model,\n",
    "    device,\n",
    "    top_n=3101\n",
    ")\n",
    "print(f\"Mean Reciprocal Rank (MRR): {mrr:.3f}\")"
   ]
  },
  {
   "cell_type": "code",
   "execution_count": 20,
   "metadata": {},
   "outputs": [
    {
     "name": "stdout",
     "output_type": "stream",
     "text": [
      "['methotrexate', 'fludarabine', 'busulfan', 'cladribine', 'cytarabine', 'flutamide', 'topotecan', 'clofarabine', 'dactinomycin', 'idarubicin', 'sirolimus', 'epirubicin', 'azathioprine', 'vincristine sulfate', 'mizoribine', 'ifosfamide', 'mitoxantrone', 'dacarbazine', 'vincristine', 'vinorelbine', 'methylprednisolone', 'prednisone', 'tiagabine', 'melphalan', 'procarbazine']\n"
     ]
    }
   ],
   "source": [
    "disease_name = \"Leukemia\"\n",
    "top_drugs = find_most_similar_drugs(disease_name, df_combined, tokenizer, bert_model, device, top_n=25)\n",
    "print(top_drugs)"
   ]
  },
  {
   "cell_type": "code",
   "execution_count": 21,
   "metadata": {},
   "outputs": [
    {
     "name": "stdout",
     "output_type": "stream",
     "text": [
      "['oxaliplatin', 'vincristine', 'capecitabine', 'sorafenib', 'sunitinib', 'dasatinib', 'lenalidomide', 'gemcitabine', 'irinotecan', 'clofarabine', 'temozolomide', 'bortezomib', 'methotrexate', 'etoposide', 'doxorubicin', 'docetaxel', 'everolimus', 'letrozole', 'ibrutinib', 'thalidomide', 'tamoxifen', 'sirolimus', 'sunitinib malate', 'belinostat', 'cisplatin']\n"
     ]
    }
   ],
   "source": [
    "disease_name = \"Kidney Cancer\"\n",
    "top_drugs = find_most_similar_drugs(disease_name, df_combined, tokenizer, bert_model, device, top_n=25)\n",
    "print(top_drugs)"
   ]
  },
  {
   "cell_type": "code",
   "execution_count": 22,
   "metadata": {},
   "outputs": [
    {
     "name": "stdout",
     "output_type": "stream",
     "text": [
      "['brigatinib', 'selumetinib', 'pemigatinib', 'pazopanib', 'lenvatinib', 'sorafenib', 'encorafenib', 'axitinib', 'regorafenib', 'sunitinib malate', 'tofacitinib', 'ponatinib', 'dasatinib', 'vandetanib', 'infigratinib', 'ruxolitinib', 'capecitabine', 'cobimetinib', 'afatinib', 'osimertinib', 'gemcitabine', 'ibrutinib', 'oxaliplatin', 'dabrafenib', 'clofarabine']\n"
     ]
    }
   ],
   "source": [
    "disease_name = \"Renal Cell Carcinoma\"\n",
    "top_drugs = find_most_similar_drugs(disease_name, df_combined, tokenizer, bert_model, device, top_n=25)\n",
    "print(top_drugs)"
   ]
  },
  {
   "cell_type": "code",
   "execution_count": 23,
   "metadata": {},
   "outputs": [
    {
     "name": "stdout",
     "output_type": "stream",
     "text": [
      "['dacarbazine', 'procarbazine', 'pazopanib', 'clofarabine', 'topotecan', 'ibrutinib', 'melphalan', 'tegafur-uracil', 'busulfan', 'abiraterone acetate', 'idarubicin', 'cabazitaxel', 'vemurafenib', 'cytarabine', 'ruxolitinib', 'interferon alfa-2b', 'gemcitabine', 'selumetinib', 'encorafenib', 'vandetanib', 'eribulin', 'Adriamycin-Bleomycin-Vinblastine-Dacarbazine Regimen', 'carmustine', 'brigatinib', 'cladribine']\n"
     ]
    }
   ],
   "source": [
    "disease_name = \"Melanoma\"\n",
    "top_drugs = find_most_similar_drugs(disease_name, df_combined, tokenizer, bert_model, device, top_n=25)\n",
    "print(top_drugs)"
   ]
  },
  {
   "cell_type": "code",
   "execution_count": 24,
   "metadata": {},
   "outputs": [
    {
     "name": "stdout",
     "output_type": "stream",
     "text": [
      "['vincristine', 'oxaliplatin', 'dacarbazine', 'clofarabine', 'methotrexate', 'procarbazine', 'gemcitabine', 'etoposide', 'temozolomide', 'topotecan', 'cisplatin', 'tiagabine', 'busulfan', 'belinostat', 'idarubicin', 'bortezomib', 'cytarabine', 'cabazitaxel', 'carmustine', 'cladribine', 'ibrutinib', 'fludarabine', 'nelarabine', 'doxorubicin', 'epirubicin']\n"
     ]
    }
   ],
   "source": [
    "disease_name = \"Non-Hodgkin's Lymphoma\"\n",
    "top_drugs = find_most_similar_drugs(disease_name, df_combined, tokenizer, bert_model, device, top_n=25)\n",
    "print(top_drugs)"
   ]
  },
  {
   "cell_type": "code",
   "execution_count": 25,
   "metadata": {},
   "outputs": [
    {
     "name": "stdout",
     "output_type": "stream",
     "text": [
      "['tamoxifen', 'docetaxel', 'BEP regimen', 'oxaliplatin', 'capecitabine', 'vincristine', 'carboplatin', 'etoposide', 'sunitinib', 'TAC Regimen', 'letrozole', 'Folfox protocol', 'abiraterone', 'anastrozole', 'irinotecan', 'cisplatin', 'FOLFOX Regimen', 'thalidomide', 'cabazitaxel', 'lenalidomide', 'folfirinox', 'cyclophosphamide', 'lapatinib', 'etoposide phosphate', 'docetaxel anhydrous']\n"
     ]
    }
   ],
   "source": [
    "disease_name = \"Invasive carcinoma of breast\"\n",
    "top_drugs = find_most_similar_drugs(disease_name, df_combined, tokenizer, bert_model, device, top_n=25)\n",
    "print(top_drugs)"
   ]
  },
  {
   "cell_type": "code",
   "execution_count": 26,
   "metadata": {},
   "outputs": [
    {
     "name": "stdout",
     "output_type": "stream",
     "text": [
      "['oxaliplatin', 'cisplatin', 'vincristine', 'capecitabine', 'temozolomide', 'etoposide', 'docetaxel', 'gemcitabine', 'methotrexate', 'doxorubicin', 'sorafenib', 'dasatinib', 'irinotecan', 'dacarbazine', 'clofarabine', 'lenalidomide', 'bortezomib', 'paclitaxel', 'procarbazine', 'cabazitaxel', 'cyclophosphamide', 'belinostat', 'cytarabine', 'gefitinib', 'irinotecan hydrochloride']\n"
     ]
    }
   ],
   "source": [
    "disease_name = \"Lung Cancer\"\n",
    "top_drugs = find_most_similar_drugs(disease_name, df_combined, tokenizer, bert_model, device, top_n=25)\n",
    "print(top_drugs)"
   ]
  },
  {
   "cell_type": "code",
   "execution_count": 27,
   "metadata": {},
   "outputs": [
    {
     "name": "stdout",
     "output_type": "stream",
     "text": [
      "['sunitinib', 'oxaliplatin', 'vincristine', 'carboplatin', 'capecitabine', 'etoposide', 'irinotecan', 'temozolomide', 'cisplatin', 'gemcitabine', 'docetaxel', 'doxorubicin', 'tamoxifen', 'irinotecan hydrochloride', 'bendamustine', 'cabazitaxel', 'gefitinib', 'BEP regimen', 'epirubicin', 'thalidomide', 'sorafenib', 'lapatinib', 'capmatinib', 'macimorelin', 'cyclophosphamide']\n"
     ]
    }
   ],
   "source": [
    "disease_name = \"Adenocarcinoma\"\n",
    "top_drugs = find_most_similar_drugs(disease_name, df_combined, tokenizer, bert_model, device, top_n=25)\n",
    "print(top_drugs)"
   ]
  },
  {
   "cell_type": "code",
   "execution_count": 28,
   "metadata": {},
   "outputs": [
    {
     "name": "stdout",
     "output_type": "stream",
     "text": [
      "['capecitabine', 'oxaliplatin', 'gemcitabine', 'irinotecan', 'temozolomide', 'sorafenib', 'docetaxel', 'cisplatin', 'irinotecan hydrochloride', 'clofarabine', 'dasatinib', 'vincristine', 'procarbazine', 'doxorubicin', 'dacarbazine', 'cabazitaxel', 'eribulin', 'topotecan', 'etoposide', 'ibrutinib', 'bortezomib', 'tegafur-uracil', 'lenalidomide', 'idarubicin', 'belinostat']\n"
     ]
    }
   ],
   "source": [
    "disease_name = \"Colorectal Cancer\"\n",
    "top_drugs = find_most_similar_drugs(disease_name, df_combined, tokenizer, bert_model, device, top_n=25)\n",
    "print(top_drugs)"
   ]
  },
  {
   "cell_type": "code",
   "execution_count": null,
   "metadata": {},
   "outputs": [],
   "source": []
  }
 ],
 "metadata": {
  "kernelspec": {
   "display_name": ".venv",
   "language": "python",
   "name": "python3"
  },
  "language_info": {
   "codemirror_mode": {
    "name": "ipython",
    "version": 3
   },
   "file_extension": ".py",
   "mimetype": "text/x-python",
   "name": "python",
   "nbconvert_exporter": "python",
   "pygments_lexer": "ipython3",
   "version": "3.12.8"
  }
 },
 "nbformat": 4,
 "nbformat_minor": 2
}
