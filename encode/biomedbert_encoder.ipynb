{
 "cells": [
  {
   "cell_type": "code",
   "execution_count": null,
   "metadata": {},
   "outputs": [],
   "source": [
    "import torch\n",
    "import pandas as pd\n",
    "from tqdm import tqdm\n",
    "from transformers import AutoTokenizer, AutoModel"
   ]
  },
  {
   "cell_type": "code",
   "execution_count": 2,
   "metadata": {},
   "outputs": [
    {
     "data": {
      "text/plain": [
       "device(type='cuda')"
      ]
     },
     "execution_count": 2,
     "metadata": {},
     "output_type": "execute_result"
    }
   ],
   "source": [
    "device = torch.device(\"cuda\" if torch.cuda.is_available() else \"cpu\")\n",
    "device"
   ]
  },
  {
   "cell_type": "code",
   "execution_count": 3,
   "metadata": {},
   "outputs": [],
   "source": [
    "model_name = \"microsoft/BiomedNLP-BiomedBERT-base-uncased-abstract-fulltext\"\n",
    "tokenizer = AutoTokenizer.from_pretrained(model_name)\n",
    "model = AutoModel.from_pretrained(model_name).to(device)"
   ]
  },
  {
   "cell_type": "code",
   "execution_count": 4,
   "metadata": {},
   "outputs": [
    {
     "name": "stdout",
     "output_type": "stream",
     "text": [
      "(18766, 2)\n"
     ]
    },
    {
     "data": {
      "text/html": [
       "<div>\n",
       "<style scoped>\n",
       "    .dataframe tbody tr th:only-of-type {\n",
       "        vertical-align: middle;\n",
       "    }\n",
       "\n",
       "    .dataframe tbody tr th {\n",
       "        vertical-align: top;\n",
       "    }\n",
       "\n",
       "    .dataframe thead th {\n",
       "        text-align: right;\n",
       "    }\n",
       "</style>\n",
       "<table border=\"1\" class=\"dataframe\">\n",
       "  <thead>\n",
       "    <tr style=\"text-align: right;\">\n",
       "      <th></th>\n",
       "      <th>disease</th>\n",
       "      <th>drug</th>\n",
       "    </tr>\n",
       "  </thead>\n",
       "  <tbody>\n",
       "    <tr>\n",
       "      <th>18761</th>\n",
       "      <td>vasomotor symptom</td>\n",
       "      <td>fezolinetant</td>\n",
       "    </tr>\n",
       "    <tr>\n",
       "      <th>18762</th>\n",
       "      <td>vasomotor symptom</td>\n",
       "      <td>gabapentin</td>\n",
       "    </tr>\n",
       "    <tr>\n",
       "      <th>18763</th>\n",
       "      <td>vasomotor symptom</td>\n",
       "      <td>paroxetine</td>\n",
       "    </tr>\n",
       "    <tr>\n",
       "      <th>18764</th>\n",
       "      <td>vasomotor symptom</td>\n",
       "      <td>progesterone</td>\n",
       "    </tr>\n",
       "    <tr>\n",
       "      <th>18765</th>\n",
       "      <td>vasomotor symptom</td>\n",
       "      <td>venlafaxine</td>\n",
       "    </tr>\n",
       "  </tbody>\n",
       "</table>\n",
       "</div>"
      ],
      "text/plain": [
       "                 disease          drug\n",
       "18761  vasomotor symptom  fezolinetant\n",
       "18762  vasomotor symptom    gabapentin\n",
       "18763  vasomotor symptom    paroxetine\n",
       "18764  vasomotor symptom  progesterone\n",
       "18765  vasomotor symptom   venlafaxine"
      ]
     },
     "execution_count": 4,
     "metadata": {},
     "output_type": "execute_result"
    }
   ],
   "source": [
    "df = pd.read_csv(\"../data/final_data_cleaned.csv\")\n",
    "print(df.shape)\n",
    "df.tail()"
   ]
  },
  {
   "cell_type": "code",
   "execution_count": 5,
   "metadata": {},
   "outputs": [
    {
     "name": "stdout",
     "output_type": "stream",
     "text": [
      "Maximum token count for 'disease' column: 26\n",
      "Maximum token count for 'drug' column: 13\n"
     ]
    }
   ],
   "source": [
    "def count_tokens(text, tokenizer):\n",
    "    tokens = tokenizer.tokenize(text)\n",
    "    return len(tokens)\n",
    "\n",
    "df['disease_token_count'] = df['disease'].apply(lambda x: count_tokens(x, tokenizer))\n",
    "df['drug_token_count'] = df['drug'].apply(lambda x: count_tokens(x, tokenizer))\n",
    "\n",
    "# Get the maximum token count in each column\n",
    "max_disease_tokens = df['disease_token_count'].max()\n",
    "max_drug_tokens = df['drug_token_count'].max()\n",
    "\n",
    "print(f\"Maximum token count for 'disease' column: {max_disease_tokens}\")\n",
    "print(f\"Maximum token count for 'drug' column: {max_drug_tokens}\")"
   ]
  },
  {
   "cell_type": "code",
   "execution_count": 6,
   "metadata": {},
   "outputs": [],
   "source": [
    "def compute_embeddings(text, tokenizer, model, device):\n",
    "    inputs = tokenizer(text, return_tensors='pt', truncation=True, padding=True, max_length=32).to(device)\n",
    "    \n",
    "    with torch.no_grad():\n",
    "        outputs = model(**inputs)\n",
    "    \n",
    "    # Get the embeddings (use the [CLS] token), then move them back to CPU and convert to numpy\n",
    "    embeddings = outputs.last_hidden_state[:, 0, :].cpu().squeeze().numpy()\n",
    "    return embeddings"
   ]
  },
  {
   "cell_type": "code",
   "execution_count": 7,
   "metadata": {},
   "outputs": [
    {
     "name": "stderr",
     "output_type": "stream",
     "text": [
      "Computing disease embeddings: 100%|██████████| 18766/18766 [02:37<00:00, 119.11it/s]\n",
      "Computing drug embeddings: 100%|██████████| 18766/18766 [02:35<00:00, 121.00it/s]\n"
     ]
    }
   ],
   "source": [
    "tqdm.pandas(desc=\"Computing disease embeddings\")\n",
    "df['disease_embedding'] = df['disease'].progress_apply(lambda x: compute_embeddings(x, tokenizer, model, device))\n",
    "\n",
    "tqdm.pandas(desc=\"Computing drug embeddings\")\n",
    "df['drug_embedding'] = df['drug'].progress_apply(lambda x: compute_embeddings(x, tokenizer, model, device))"
   ]
  },
  {
   "cell_type": "code",
   "execution_count": 8,
   "metadata": {},
   "outputs": [
    {
     "data": {
      "text/html": [
       "<div>\n",
       "<style scoped>\n",
       "    .dataframe tbody tr th:only-of-type {\n",
       "        vertical-align: middle;\n",
       "    }\n",
       "\n",
       "    .dataframe tbody tr th {\n",
       "        vertical-align: top;\n",
       "    }\n",
       "\n",
       "    .dataframe thead th {\n",
       "        text-align: right;\n",
       "    }\n",
       "</style>\n",
       "<table border=\"1\" class=\"dataframe\">\n",
       "  <thead>\n",
       "    <tr style=\"text-align: right;\">\n",
       "      <th></th>\n",
       "      <th>disease</th>\n",
       "      <th>drug</th>\n",
       "      <th>disease_token_count</th>\n",
       "      <th>drug_token_count</th>\n",
       "      <th>disease_embedding</th>\n",
       "      <th>drug_embedding</th>\n",
       "    </tr>\n",
       "  </thead>\n",
       "  <tbody>\n",
       "    <tr>\n",
       "      <th>18756</th>\n",
       "      <td>vaccinia virus</td>\n",
       "      <td>cidofovir</td>\n",
       "      <td>2</td>\n",
       "      <td>2</td>\n",
       "      <td>[-0.32823208, -0.16160358, -0.15520449, 0.0810...</td>\n",
       "      <td>[0.036254346, 0.012836881, 0.095738396, -0.363...</td>\n",
       "    </tr>\n",
       "    <tr>\n",
       "      <th>18757</th>\n",
       "      <td>vaginalis</td>\n",
       "      <td>metronidazole</td>\n",
       "      <td>2</td>\n",
       "      <td>1</td>\n",
       "      <td>[-0.22511786, 0.21200362, -0.05131736, -0.2241...</td>\n",
       "      <td>[-0.05780682, 0.05072802, 0.16187474, 0.279515...</td>\n",
       "    </tr>\n",
       "    <tr>\n",
       "      <th>18758</th>\n",
       "      <td>vasomotor symptom</td>\n",
       "      <td>Elinzanetant</td>\n",
       "      <td>4</td>\n",
       "      <td>5</td>\n",
       "      <td>[0.022215698, 0.35601804, 0.041473925, -0.2789...</td>\n",
       "      <td>[0.1310547, 0.02591556, -0.06795354, 0.2680747...</td>\n",
       "    </tr>\n",
       "    <tr>\n",
       "      <th>18759</th>\n",
       "      <td>vasomotor symptom</td>\n",
       "      <td>estradiol</td>\n",
       "      <td>4</td>\n",
       "      <td>1</td>\n",
       "      <td>[0.022215698, 0.35601804, 0.041473925, -0.2789...</td>\n",
       "      <td>[-0.42348137, 0.19635782, -0.13909128, 0.03339...</td>\n",
       "    </tr>\n",
       "    <tr>\n",
       "      <th>18760</th>\n",
       "      <td>vasomotor symptom</td>\n",
       "      <td>estrogens</td>\n",
       "      <td>4</td>\n",
       "      <td>1</td>\n",
       "      <td>[0.022215698, 0.35601804, 0.041473925, -0.2789...</td>\n",
       "      <td>[-0.07127568, 0.7490191, 0.03212757, 0.0303196...</td>\n",
       "    </tr>\n",
       "    <tr>\n",
       "      <th>18761</th>\n",
       "      <td>vasomotor symptom</td>\n",
       "      <td>fezolinetant</td>\n",
       "      <td>4</td>\n",
       "      <td>5</td>\n",
       "      <td>[0.022215698, 0.35601804, 0.041473925, -0.2789...</td>\n",
       "      <td>[-0.035705805, 0.26630142, -0.019500958, 0.047...</td>\n",
       "    </tr>\n",
       "    <tr>\n",
       "      <th>18762</th>\n",
       "      <td>vasomotor symptom</td>\n",
       "      <td>gabapentin</td>\n",
       "      <td>4</td>\n",
       "      <td>1</td>\n",
       "      <td>[0.022215698, 0.35601804, 0.041473925, -0.2789...</td>\n",
       "      <td>[-0.08150145, -0.107544206, 0.111592196, -0.01...</td>\n",
       "    </tr>\n",
       "    <tr>\n",
       "      <th>18763</th>\n",
       "      <td>vasomotor symptom</td>\n",
       "      <td>paroxetine</td>\n",
       "      <td>4</td>\n",
       "      <td>2</td>\n",
       "      <td>[0.022215698, 0.35601804, 0.041473925, -0.2789...</td>\n",
       "      <td>[-0.04558692, 0.5095056, 0.086280674, 0.170817...</td>\n",
       "    </tr>\n",
       "    <tr>\n",
       "      <th>18764</th>\n",
       "      <td>vasomotor symptom</td>\n",
       "      <td>progesterone</td>\n",
       "      <td>4</td>\n",
       "      <td>1</td>\n",
       "      <td>[0.022215698, 0.35601804, 0.041473925, -0.2789...</td>\n",
       "      <td>[-0.26757017, 0.12531605, -0.12637241, -0.0235...</td>\n",
       "    </tr>\n",
       "    <tr>\n",
       "      <th>18765</th>\n",
       "      <td>vasomotor symptom</td>\n",
       "      <td>venlafaxine</td>\n",
       "      <td>4</td>\n",
       "      <td>4</td>\n",
       "      <td>[0.022215698, 0.35601804, 0.041473925, -0.2789...</td>\n",
       "      <td>[0.16102375, 0.5103733, 0.013180696, 0.1248195...</td>\n",
       "    </tr>\n",
       "  </tbody>\n",
       "</table>\n",
       "</div>"
      ],
      "text/plain": [
       "                 disease           drug  disease_token_count  \\\n",
       "18756     vaccinia virus      cidofovir                    2   \n",
       "18757          vaginalis  metronidazole                    2   \n",
       "18758  vasomotor symptom   Elinzanetant                    4   \n",
       "18759  vasomotor symptom      estradiol                    4   \n",
       "18760  vasomotor symptom      estrogens                    4   \n",
       "18761  vasomotor symptom   fezolinetant                    4   \n",
       "18762  vasomotor symptom     gabapentin                    4   \n",
       "18763  vasomotor symptom     paroxetine                    4   \n",
       "18764  vasomotor symptom   progesterone                    4   \n",
       "18765  vasomotor symptom    venlafaxine                    4   \n",
       "\n",
       "       drug_token_count                                  disease_embedding  \\\n",
       "18756                 2  [-0.32823208, -0.16160358, -0.15520449, 0.0810...   \n",
       "18757                 1  [-0.22511786, 0.21200362, -0.05131736, -0.2241...   \n",
       "18758                 5  [0.022215698, 0.35601804, 0.041473925, -0.2789...   \n",
       "18759                 1  [0.022215698, 0.35601804, 0.041473925, -0.2789...   \n",
       "18760                 1  [0.022215698, 0.35601804, 0.041473925, -0.2789...   \n",
       "18761                 5  [0.022215698, 0.35601804, 0.041473925, -0.2789...   \n",
       "18762                 1  [0.022215698, 0.35601804, 0.041473925, -0.2789...   \n",
       "18763                 2  [0.022215698, 0.35601804, 0.041473925, -0.2789...   \n",
       "18764                 1  [0.022215698, 0.35601804, 0.041473925, -0.2789...   \n",
       "18765                 4  [0.022215698, 0.35601804, 0.041473925, -0.2789...   \n",
       "\n",
       "                                          drug_embedding  \n",
       "18756  [0.036254346, 0.012836881, 0.095738396, -0.363...  \n",
       "18757  [-0.05780682, 0.05072802, 0.16187474, 0.279515...  \n",
       "18758  [0.1310547, 0.02591556, -0.06795354, 0.2680747...  \n",
       "18759  [-0.42348137, 0.19635782, -0.13909128, 0.03339...  \n",
       "18760  [-0.07127568, 0.7490191, 0.03212757, 0.0303196...  \n",
       "18761  [-0.035705805, 0.26630142, -0.019500958, 0.047...  \n",
       "18762  [-0.08150145, -0.107544206, 0.111592196, -0.01...  \n",
       "18763  [-0.04558692, 0.5095056, 0.086280674, 0.170817...  \n",
       "18764  [-0.26757017, 0.12531605, -0.12637241, -0.0235...  \n",
       "18765  [0.16102375, 0.5103733, 0.013180696, 0.1248195...  "
      ]
     },
     "execution_count": 8,
     "metadata": {},
     "output_type": "execute_result"
    }
   ],
   "source": [
    "df.tail(10)"
   ]
  },
  {
   "cell_type": "code",
   "execution_count": 9,
   "metadata": {},
   "outputs": [],
   "source": [
    "df.drop([\"disease_token_count\" ,\"drug_token_count\"], axis=1, inplace=True)"
   ]
  },
  {
   "cell_type": "code",
   "execution_count": 11,
   "metadata": {},
   "outputs": [],
   "source": [
    "df.to_parquet('../data/final_data_cleaned.parquet', engine='pyarrow')"
   ]
  },
  {
   "cell_type": "code",
   "execution_count": null,
   "metadata": {},
   "outputs": [],
   "source": []
  }
 ],
 "metadata": {
  "kernelspec": {
   "display_name": "capstone-env",
   "language": "python",
   "name": "python3"
  },
  "language_info": {
   "codemirror_mode": {
    "name": "ipython",
    "version": 3
   },
   "file_extension": ".py",
   "mimetype": "text/x-python",
   "name": "python",
   "nbconvert_exporter": "python",
   "pygments_lexer": "ipython3",
   "version": "3.12.7"
  }
 },
 "nbformat": 4,
 "nbformat_minor": 2
}
