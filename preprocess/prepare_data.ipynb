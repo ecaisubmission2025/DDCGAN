{
 "cells": [
  {
   "cell_type": "code",
   "execution_count": null,
   "metadata": {},
   "outputs": [],
   "source": [
    "import pandas as pd"
   ]
  },
  {
   "cell_type": "code",
   "execution_count": null,
   "metadata": {},
   "outputs": [],
   "source": [
    "\"\"\"\n",
    "import os\n",
    "import glob\n",
    "\n",
    "path = os.path.join('..', 'data', 'distributed_data', 'UMLS_treat_*.csv')\n",
    "\n",
    "all_files = glob.glob(path)\n",
    "\"\"\""
   ]
  },
  {
   "cell_type": "code",
   "execution_count": null,
   "metadata": {},
   "outputs": [],
   "source": [
    "\"\"\"\n",
    "df_list = []\n",
    "\n",
    "for file in all_files:\n",
    "    df = pd.read_csv(file)\n",
    "    df_list.append(df)\n",
    "\n",
    "data = pd.concat(df_list, ignore_index=True)\n",
    "\"\"\""
   ]
  },
  {
   "cell_type": "code",
   "execution_count": null,
   "metadata": {},
   "outputs": [],
   "source": [
    "\"\"\"\n",
    "filtered_data = data[data['SUBJECT_CUI'].str.contains(r'\\|')].copy()\n",
    "\n",
    "filtered_data['SUBJECT_CUI'] = filtered_data['SUBJECT_CUI'].str.split('|').str[0]\n",
    "\n",
    "data = data[~data['SUBJECT_CUI'].str.contains(r'\\|')]\n",
    "\n",
    "filtered_data.reset_index(drop=True, inplace=True)\n",
    "data.reset_index(drop=True, inplace=True)\n",
    "\"\"\""
   ]
  },
  {
   "cell_type": "code",
   "execution_count": null,
   "metadata": {},
   "outputs": [],
   "source": [
    "\"\"\"\n",
    "df_combined = pd.concat([data, fixed], ignore_index=True)\n",
    "\n",
    "df_combined.reset_index(drop=True, inplace=True)\n",
    "\n",
    "df_combined_cleaned = df_combined.dropna(subset=['drug', 'disease']).reset_index(drop=True)\n",
    "\n",
    "df_combined_cleaned.to_csv(\"data/positive_dataset_names.csv\", index=False)\n",
    "\"\"\""
   ]
  },
  {
   "cell_type": "markdown",
   "metadata": {},
   "source": [
    "### Combining UMLS treat dataset and positive dataset with TREATS predicate"
   ]
  },
  {
   "cell_type": "code",
   "execution_count": null,
   "metadata": {},
   "outputs": [],
   "source": [
    "umls_treat = pd.read_csv(\"../data/UMLS_treat_names.csv\")\n",
    "positive_dataset = pd.read_csv(\"../data/positive_dataset_valid_compounds.csv\")"
   ]
  },
  {
   "cell_type": "code",
   "execution_count": null,
   "metadata": {},
   "outputs": [],
   "source": [
    "print(umls_treat.columns)\n",
    "print(positive_dataset.columns)"
   ]
  },
  {
   "cell_type": "code",
   "execution_count": null,
   "metadata": {},
   "outputs": [],
   "source": [
    "print(umls_treat.shape)\n",
    "print(positive_dataset.shape)"
   ]
  },
  {
   "cell_type": "code",
   "execution_count": null,
   "metadata": {},
   "outputs": [],
   "source": [
    "diseases_to_remove = [\n",
    "    \"Patients\", \"Rattus norvegicus\", \"Child\", \"Mus\", \"Woman\", \"Disease\", \n",
    "    \"Persons\", \"Canis familiaris\", \"Adult\", \"Population Group\", \n",
    "    \"Male population group\", \"Infant\", \"Elderly (population group)\", \n",
    "    \"Infant, Newborn\", \"Adolescent (age group)\", \"Control Groups\", \n",
    "    \"Cohort\", \"Individual\", \"Cattle\", \"Critical Illness\", \"Felis catus\", \n",
    "    \"Participant\", \"Escherichia coli\", \"Family suidae\", \"Pregnant Women\", \n",
    "    \"Males\", \"Transplant Recipients\", \"Sheep\", \"geriatric patients\", \n",
    "    \"Females\", \"Equus caballus\", \"Premature infant\", \"Rats, Inbred SHR\", \n",
    "    \"Family\", \"Mother (person)\", \"Cavia\", \"Present\", \"Age\", \"Outpatients\",\n",
    "    \"Voluntary Workers\", \"Rats, Wistar\", \"House mice\", \"Rats, Sprague-Dawley\", \"Monkeys\", \"Pregnant Woman\",\n",
    "    \"Symptoms\", \"Inflammation\", \"Pain\", \"Adverse effects\", \"Lesion\", \"Syndrome\",\n",
    "    \"Toxic effect\", \"Oxidative Stress\", \"Complication\", \"Bacteria\", \"Rodent\", \"Vesicle (morphologic abnormality)\",\n",
    "    \"Macaca mulatta\", \"Homo sapiens\", \"Mammals\", \"Capra hircus\", \"Adverse event\", \"Contraction (finding)\",\n",
    "    \"Smoker\", \"Offspring\", \"Microbial Biofilms\", \"Inflammatory Response\", \"Pseudomonas aeruginosa\", \"Inpatient\",\n",
    "    \"Mean blood pressure\", \"ewes\", \"Onset of illness\", \"Infection\", \"Shock\", \"Absence of pain sensation\",\n",
    "    \"Physical findings\", \"Protozoan Infections\", \"Xenograft Model\", \"cytotoxicity\", \"Drug toxicity\", \"Acute onset pain\",\n",
    "    \"Human body\", \"Depressive Symptoms\", \"Weight Gain\", \"Agitation\", \"Survivors\", \"Ulcer\",\n",
    "    \"Fasting\", \"Papio\", \"Alcoholics\", \"Carrier of disorder\", \"Diastasis\", \"In complete remission\",\n",
    "    \"Adverse reactions\", \"Non-smoker\", \"Caucasian\", \"Virus Diseases\", \"tumor growth\", \"Beagle\",\n",
    "    \"Psychiatric inpatient\", \"Athletes\", \"\", \"\", \"\", \"\",\n",
    "]"
   ]
  },
  {
   "cell_type": "code",
   "execution_count": null,
   "metadata": {},
   "outputs": [],
   "source": [
    "for disease in diseases_to_remove:\n",
    "    umls_treat = umls_treat[umls_treat[\"disease\"] != disease].reset_index(drop=True)\n",
    "\n",
    "for disease in diseases_to_remove:\n",
    "    positive_dataset = positive_dataset[positive_dataset[\"disease\"] != disease].reset_index(drop=True)"
   ]
  },
  {
   "cell_type": "code",
   "execution_count": null,
   "metadata": {},
   "outputs": [],
   "source": [
    "print(umls_treat.shape)\n",
    "print(positive_dataset.shape)"
   ]
  },
  {
   "cell_type": "code",
   "execution_count": null,
   "metadata": {},
   "outputs": [],
   "source": [
    "combined_data = pd.concat([umls_treat, positive_dataset], ignore_index=True)"
   ]
  },
  {
   "cell_type": "code",
   "execution_count": null,
   "metadata": {},
   "outputs": [],
   "source": [
    "combined_data.shape"
   ]
  },
  {
   "cell_type": "code",
   "execution_count": null,
   "metadata": {},
   "outputs": [],
   "source": [
    "combined_data.tail()"
   ]
  },
  {
   "cell_type": "code",
   "execution_count": null,
   "metadata": {},
   "outputs": [],
   "source": [
    "combined_data.duplicated().sum()"
   ]
  },
  {
   "cell_type": "code",
   "execution_count": null,
   "metadata": {},
   "outputs": [],
   "source": [
    "combined_data = combined_data.drop_duplicates().reset_index(drop=True)"
   ]
  },
  {
   "cell_type": "code",
   "execution_count": null,
   "metadata": {},
   "outputs": [],
   "source": [
    "combined_data.shape"
   ]
  },
  {
   "cell_type": "code",
   "execution_count": null,
   "metadata": {},
   "outputs": [],
   "source": [
    "combined_data.tail()"
   ]
  },
  {
   "cell_type": "code",
   "execution_count": null,
   "metadata": {},
   "outputs": [],
   "source": [
    "combined_data.to_csv(\"../data/combined_data.csv\", index=False)"
   ]
  },
  {
   "cell_type": "markdown",
   "metadata": {},
   "source": [
    "### Positive dataset, PREVENTS predicate"
   ]
  },
  {
   "cell_type": "code",
   "execution_count": null,
   "metadata": {},
   "outputs": [],
   "source": [
    "positive_dataset = pd.read_csv(\"../data/positive_dataset.csv\", sep=\";\")[[\"SUBJECT_CUI\",\t\"PREDICATE\", \"OBJECT_CUI\"]]"
   ]
  },
  {
   "cell_type": "code",
   "execution_count": null,
   "metadata": {},
   "outputs": [],
   "source": [
    "positive_dataset = positive_dataset[positive_dataset[\"PREDICATE\"] == \"PREVENTS\"].reset_index(drop=True).drop(\"PREDICATE\", axis=1)\n",
    "print(positive_dataset.shape)"
   ]
  },
  {
   "cell_type": "code",
   "execution_count": null,
   "metadata": {},
   "outputs": [],
   "source": [
    "positive_dataset.head()"
   ]
  },
  {
   "cell_type": "code",
   "execution_count": null,
   "metadata": {},
   "outputs": [],
   "source": [
    "positive_dataset.to_csv(\"../data/positive_dataset_prevents.csv\", index=False)"
   ]
  },
  {
   "cell_type": "code",
   "execution_count": null,
   "metadata": {},
   "outputs": [],
   "source": [
    "positive_dataset = pd.read_csv(\"../data/positive_dataset_prevents.csv\")"
   ]
  },
  {
   "cell_type": "code",
   "execution_count": null,
   "metadata": {},
   "outputs": [],
   "source": [
    "for disease in diseases_to_remove:\n",
    "    positive_dataset = positive_dataset[positive_dataset[\"disease\"] != disease].reset_index(drop=True)"
   ]
  },
  {
   "cell_type": "code",
   "execution_count": null,
   "metadata": {},
   "outputs": [],
   "source": [
    "positive_dataset.to_csv(\"../data/positive_dataset_prevents.csv\", index=False)"
   ]
  },
  {
   "cell_type": "markdown",
   "metadata": {},
   "source": [
    "### Intended dataset"
   ]
  },
  {
   "cell_type": "code",
   "execution_count": null,
   "metadata": {},
   "outputs": [],
   "source": [
    "intended_data = pd.read_csv(\"../data/intended_data.csv\")"
   ]
  },
  {
   "cell_type": "code",
   "execution_count": null,
   "metadata": {},
   "outputs": [],
   "source": [
    "intended_data.shape"
   ]
  },
  {
   "cell_type": "code",
   "execution_count": null,
   "metadata": {},
   "outputs": [],
   "source": [
    "intended_data = intended_data[intended_data[\"PREDICATE\"] == \"TREATS\"].reset_index(drop=True)\n",
    "print(intended_data.shape)\n",
    "intended_data.tail()"
   ]
  },
  {
   "cell_type": "code",
   "execution_count": null,
   "metadata": {},
   "outputs": [],
   "source": [
    "filtered_data = intended_data[intended_data['SUBJECT_CUI'].str.contains(r'\\|')].copy()\n",
    "\n",
    "filtered_data['SUBJECT_CUI'] = filtered_data['SUBJECT_CUI'].str.split('|').str[0]\n",
    "\n",
    "intended_data = intended_data[~intended_data['SUBJECT_CUI'].str.contains(r'\\|')]\n",
    "\n",
    "filtered_data.reset_index(drop=True, inplace=True)\n",
    "intended_data.reset_index(drop=True, inplace=True)\n",
    "\n",
    "intended_data = pd.concat([intended_data, filtered_data], ignore_index=True)\n",
    "\n",
    "print(intended_data.shape)"
   ]
  },
  {
   "cell_type": "code",
   "execution_count": null,
   "metadata": {},
   "outputs": [],
   "source": [
    "intended_data.to_csv(\"../data/intended_data.csv\", index=False)"
   ]
  },
  {
   "cell_type": "code",
   "execution_count": null,
   "metadata": {},
   "outputs": [],
   "source": [
    "intended_data = pd.read_csv(\"../data/intended_data_names.csv\")\n",
    "print(intended_data.shape)"
   ]
  },
  {
   "cell_type": "code",
   "execution_count": null,
   "metadata": {},
   "outputs": [],
   "source": [
    "for disease in diseases_to_remove:\n",
    "    intended_data = intended_data[intended_data[\"disease\"] != disease].reset_index(drop=True)\n",
    "intended_data.shape"
   ]
  },
  {
   "cell_type": "code",
   "execution_count": null,
   "metadata": {},
   "outputs": [],
   "source": [
    "drugs_to_remove = [\n",
    "    \"Therapeutic procedure\", \"Operative Surgical Procedures\", \"Pharmaceutical Preparations\", \"Interventional procedure\", \n",
    "    \"Pharmacotherapy\", \"Intervention regimes\", \n",
    "]"
   ]
  },
  {
   "cell_type": "code",
   "execution_count": null,
   "metadata": {},
   "outputs": [],
   "source": [
    "for drug in drugs_to_remove:\n",
    "    intended_data = intended_data[intended_data[\"drug\"] != drug].reset_index(drop=True)\n",
    "intended_data.shape"
   ]
  },
  {
   "cell_type": "code",
   "execution_count": null,
   "metadata": {},
   "outputs": [],
   "source": [
    "intended_data.to_csv(\"../data/intended_data_names.csv\", index=False)"
   ]
  },
  {
   "cell_type": "markdown",
   "metadata": {},
   "source": [
    "### Combining UMLS treat dataset, positive dataset with TREATS predicate, positive dataset with PREVENTS predicate, drug prescription to disease dataset, and intended dataset"
   ]
  },
  {
   "cell_type": "code",
   "execution_count": null,
   "metadata": {},
   "outputs": [],
   "source": [
    "combined_data_embeddings = pd.read_parquet(\"../data/combined_data_embeddings.parquet\", engine=\"pyarrow\")\n",
    "positive_dataset_prevents_embeddings = pd.read_parquet(\"../data/positive_dataset_prevents_embeddings.parquet\", engine=\"pyarrow\")\n",
    "intended_data_embeddings = pd.read_parquet(\"../data/intended_data_embeddings.parquet\", engine=\"pyarrow\")"
   ]
  },
  {
   "cell_type": "code",
   "execution_count": null,
   "metadata": {},
   "outputs": [],
   "source": [
    "final_data = pd.concat([combined_data_embeddings, positive_dataset_prevents_embeddings, intended_data_embeddings], ignore_index=True)\n",
    "final_data = final_data.sample(frac=1, random_state=42).reset_index(drop=True)\n",
    "print(final_data.shape)\n",
    "final_data = final_data.drop_duplicates(subset=['drug', 'disease'], keep='first').reset_index(drop=True)\n",
    "print(final_data.shape)\n",
    "final_data.tail()"
   ]
  },
  {
   "cell_type": "code",
   "execution_count": null,
   "metadata": {},
   "outputs": [],
   "source": [
    "for disease in diseases_to_remove:\n",
    "    final_data = final_data[final_data[\"disease\"] != disease].reset_index(drop=True)\n",
    "final_data.shape"
   ]
  },
  {
   "cell_type": "code",
   "execution_count": null,
   "metadata": {},
   "outputs": [],
   "source": [
    "import re\n",
    "\n",
    "def clean_disease_data(df):\n",
    "    clean_df = df.copy()\n",
    "    \n",
    "    terms_to_remove = [\n",
    "        \"rabbit\", \"rabbits\", \"guinea pig\", \"guinea pigs\", \"hamster\", \"hamsters\",\n",
    "        \"primate\", \"primates\", \"monkey\", \"monkeys\", \"macaque\", \"macaques\",\n",
    "        \"ferret\", \"ferrets\", \"pig\", \"pigs\", \"swine\", \"porcine\", \"zebrafish\",\n",
    "        \"fish\", \"canine\", \"canines\", \"feline\", \"felines\", \"chicken\", \"chickens\",\n",
    "        \"bovine\", \"sheep\", \"goat\", \"goats\", \"horse\", \"horses\", \"equine\",\n",
    "        \"Rattus norvegicus\", \"Mus\", \"Canis familiaris\", \"Felis catus\",\n",
    "        \"Family suidae\", \"Equus caballus\", \"Cavia\", \"Rats, Inbred SHR\",\n",
    "        \"Rats, Wistar\", \"House mice\", \"Rats, Sprague-Dawley\", \"Monkeys\",\n",
    "        \"mice\", \"mouse\", \"rat\", \"rats\", \"donkey\",\n",
    "        \n",
    "        \"control\", \"controls\", \"group\", \"groups\", \"cohort\", \"cohorts\",\n",
    "        \"patient\", \"patients\", \"subject\", \"subjects\", \"participant\",\n",
    "        \"participants\", \"volunteer\", \"volunteers\", \"case\", \"cases\",\n",
    "        \"population\", \"populations\", \"individual\", \"individuals\", \"sample\",\n",
    "        \"samples\", \"donor\", \"donors\", \"recipient\", \"recipients\", \"respondent\",\n",
    "        \"respondents\", \"enrollee\", \"enrollees\", \"Control Groups\", \"Cohort\",\n",
    "        \"Individual\", \"Participant\", \"Voluntary Workers\", \"Transplant Recipients\",\n",
    "        \n",
    "        \"adult\", \"adults\", \"child\", \"children\", \"infant\", \"infants\",\n",
    "        \"newborn\", \"newborns\", \"baby\", \"babies\", \"toddler\", \"toddlers\",\n",
    "        \"adolescent\", \"adolescents\", \"teen\", \"teens\", \"elderly\", \"geriatric\",\n",
    "        \"male\", \"males\", \"female\", \"females\", \"man\", \"woman\", \"men\", \"women\",\n",
    "        \"boy\", \"boys\", \"girl\", \"girls\", \"age\", \"young\", \"old\", \"senior\",\n",
    "        \"seniors\", \"pregnant\", \"maternal\", \"paternal\", \"parent\", \"parents\",\n",
    "        \"Child\", \"Woman\", \"Persons\", \"Adult\", \"Male population group\",\n",
    "        \"Infant\", \"Elderly\", \"Infant, Newborn\", \"Adolescent\",\n",
    "        \"Males\", \"Females\", \"Pregnant Women\", \"Pregnant Woman\",\n",
    "        \"geriatric patients\", \"Mother\",\n",
    "        \n",
    "        \"Patients\", \"Disease\", \"Population Group\", \"Critical Illness\",\n",
    "        \"Present\", \"Age\", \"Outpatients\",\n",
    "        \n",
    "        \"Escherichia coli\"\n",
    "    ]\n",
    "    \n",
    "    terms_to_remove = sorted(terms_to_remove, key=len, reverse=True)\n",
    "    \n",
    "    pattern = '|'.join(r'\\b{}\\b'.format(re.escape(term)) for term in terms_to_remove)\n",
    "    \n",
    "    def contains_non_disease_term(disease_name):\n",
    "        return bool(re.search(pattern, disease_name, re.IGNORECASE))\n",
    "    \n",
    "    clean_df = clean_df[~clean_df[\"disease\"].apply(contains_non_disease_term)].reset_index(drop=True)\n",
    "    \n",
    "    return clean_df\n",
    "\n",
    "final_data_cleaned = clean_disease_data(final_data)\n",
    "\n",
    "print(f\"Original dataset size: {final_data.shape}\")\n",
    "print(f\"Cleaned dataset size: {final_data_cleaned.shape}\")\n",
    "print(f\"Removed {final_data.shape[0] - final_data_cleaned.shape[0]} rows\")"
   ]
  },
  {
   "cell_type": "code",
   "execution_count": null,
   "metadata": {},
   "outputs": [],
   "source": [
    "final_data_cleaned.to_parquet(\"../data/final_data.parquet\", engine=\"pyarrow\")"
   ]
  },
  {
   "cell_type": "code",
   "execution_count": null,
   "metadata": {},
   "outputs": [],
   "source": []
  }
 ],
 "metadata": {
  "kernelspec": {
   "display_name": "capstone-env",
   "language": "python",
   "name": "python3"
  },
  "language_info": {
   "codemirror_mode": {
    "name": "ipython",
    "version": 3
   },
   "file_extension": ".py",
   "mimetype": "text/x-python",
   "name": "python",
   "nbconvert_exporter": "python",
   "pygments_lexer": "ipython3",
   "version": "3.12.7"
  }
 },
 "nbformat": 4,
 "nbformat_minor": 2
}
