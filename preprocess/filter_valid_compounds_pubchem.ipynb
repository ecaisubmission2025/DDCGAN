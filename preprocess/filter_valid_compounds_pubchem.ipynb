{
 "cells": [
  {
   "cell_type": "code",
   "execution_count": null,
   "metadata": {},
   "outputs": [],
   "source": [
    "import pandas as pd\n",
    "from urllib.parse import quote\n",
    "import requests\n",
    "from concurrent.futures import ThreadPoolExecutor, as_completed\n",
    "from tqdm import tqdm\n",
    "import time\n",
    "from requests.adapters import HTTPAdapter\n",
    "from requests.packages.urllib3.util.retry import Retry\n",
    "import threading"
   ]
  },
  {
   "cell_type": "code",
   "execution_count": null,
   "metadata": {},
   "outputs": [],
   "source": [
    "df = pd.read_csv(\"../data/intended_data_names.csv\")\n",
    "df.shape"
   ]
  },
  {
   "cell_type": "code",
   "execution_count": null,
   "metadata": {},
   "outputs": [],
   "source": [
    "class RateLimiter:\n",
    "    def __init__(self, max_per_second):\n",
    "        self.lock = threading.Lock()\n",
    "        self.last_request_time = time.time()\n",
    "        self.min_interval = 1.0 / max_per_second\n",
    "\n",
    "    def wait(self):\n",
    "        with self.lock:\n",
    "            current_time = time.time()\n",
    "            time_since_last = current_time - self.last_request_time\n",
    "            if time_since_last < self.min_interval:\n",
    "                time.sleep(self.min_interval - time_since_last)\n",
    "            self.last_request_time = time.time()"
   ]
  },
  {
   "cell_type": "code",
   "execution_count": null,
   "metadata": {},
   "outputs": [],
   "source": [
    "def create_session():\n",
    "    session = requests.Session()\n",
    "    retry_strategy = Retry(\n",
    "        total=3,\n",
    "        backoff_factor=1,\n",
    "        status_forcelist=[429, 500, 502, 503, 504],\n",
    "    )\n",
    "    adapter = HTTPAdapter(max_retries=retry_strategy)\n",
    "    session.mount(\"https://\", adapter)\n",
    "    return session"
   ]
  },
  {
   "cell_type": "code",
   "execution_count": null,
   "metadata": {},
   "outputs": [],
   "source": [
    "def is_valid_compound(drug_name, rate_limiter, session):\n",
    "    try:\n",
    "        rate_limiter.wait()\n",
    "        \n",
    "        encoded_name = quote(drug_name)\n",
    "        url = f'https://pubchem.ncbi.nlm.nih.gov/rest/pug/compound/name/{encoded_name}/cids/TXT'\n",
    "        response = session.get(url, timeout=10)\n",
    "        \n",
    "        if response.status_code == 200 and response.text.strip():\n",
    "            return drug_name\n",
    "        elif response.status_code == 404:\n",
    "            return None\n",
    "        else:\n",
    "            print(f\"Unexpected status code {response.status_code} for {drug_name}\")\n",
    "            return None\n",
    "            \n",
    "    except requests.RequestException as e:\n",
    "        print(f\"Error processing {drug_name}: {e}\")\n",
    "        return None"
   ]
  },
  {
   "cell_type": "code",
   "execution_count": null,
   "metadata": {},
   "outputs": [],
   "source": [
    "def get_valid_compounds(drug_set, max_workers=4):\n",
    "    valid_drugs = []\n",
    "    rate_limiter = RateLimiter(max_per_second=5)\n",
    "    session = create_session()\n",
    "    \n",
    "    with tqdm(total=len(drug_set), desc=\"Validating unique compounds\") as pbar:\n",
    "        with ThreadPoolExecutor(max_workers=max_workers) as executor:\n",
    "            future_to_drug = {\n",
    "                executor.submit(is_valid_compound, drug, rate_limiter, session): drug \n",
    "                for drug in drug_set\n",
    "            }\n",
    "            \n",
    "            for future in as_completed(future_to_drug):\n",
    "                drug = future_to_drug[future]\n",
    "                try:\n",
    "                    result = future.result()\n",
    "                    if result:\n",
    "                        valid_drugs.append(result)\n",
    "                except Exception as e:\n",
    "                    print(f\"Error processing {drug}: {e}\")\n",
    "                finally:\n",
    "                    pbar.update(1)\n",
    "\n",
    "    return valid_drugs"
   ]
  },
  {
   "cell_type": "code",
   "execution_count": null,
   "metadata": {},
   "outputs": [],
   "source": [
    "def filter_valid_compounds(df, max_workers=4):\n",
    "    unique_drugs = set(df['drug'])  # Collect unique drug entries\n",
    "    valid_drugs = get_valid_compounds(unique_drugs, max_workers)  # Validate unique drugs\n",
    "    \n",
    "    # Filter the DataFrame to include only rows with valid drugs\n",
    "    filtered_df = df[df['drug'].isin(valid_drugs)]\n",
    "    print(f\"\\nFound {len(valid_drugs)} valid compounds out of {len(unique_drugs)} unique compounds\")\n",
    "    return filtered_df"
   ]
  },
  {
   "cell_type": "code",
   "execution_count": null,
   "metadata": {},
   "outputs": [],
   "source": [
    "filtered_df = filter_valid_compounds(df)"
   ]
  },
  {
   "cell_type": "code",
   "execution_count": null,
   "metadata": {},
   "outputs": [],
   "source": [
    "invalid = df[~df[\"drug\"].isin(filtered_df[\"drug\"])].reset_index(drop=True)"
   ]
  },
  {
   "cell_type": "code",
   "execution_count": null,
   "metadata": {},
   "outputs": [],
   "source": [
    "print(invalid.shape)\n",
    "print(filtered_df.shape)"
   ]
  },
  {
   "cell_type": "code",
   "execution_count": null,
   "metadata": {},
   "outputs": [],
   "source": [
    "invalid[\"drug\"].value_counts().sort_values(ascending=True).head(50)"
   ]
  },
  {
   "cell_type": "code",
   "execution_count": null,
   "metadata": {},
   "outputs": [],
   "source": [
    "filtered_df.to_csv(\"../data/intended_data_names.csv\", index=False)"
   ]
  },
  {
   "cell_type": "code",
   "execution_count": null,
   "metadata": {},
   "outputs": [],
   "source": []
  }
 ],
 "metadata": {
  "kernelspec": {
   "display_name": "capstone-env",
   "language": "python",
   "name": "python3"
  },
  "language_info": {
   "codemirror_mode": {
    "name": "ipython",
    "version": 3
   },
   "file_extension": ".py",
   "mimetype": "text/x-python",
   "name": "python",
   "nbconvert_exporter": "python",
   "pygments_lexer": "ipython3",
   "version": "3.12.7"
  }
 },
 "nbformat": 4,
 "nbformat_minor": 2
}
