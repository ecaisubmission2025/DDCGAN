{
 "cells": [
  {
   "cell_type": "code",
   "execution_count": 1,
   "metadata": {},
   "outputs": [],
   "source": [
    "import pandas as pd"
   ]
  },
  {
   "cell_type": "code",
   "execution_count": 2,
   "metadata": {},
   "outputs": [
    {
     "name": "stdout",
     "output_type": "stream",
     "text": [
      "(49251, 2)\n"
     ]
    },
    {
     "data": {
      "text/html": [
       "<div>\n",
       "<style scoped>\n",
       "    .dataframe tbody tr th:only-of-type {\n",
       "        vertical-align: middle;\n",
       "    }\n",
       "\n",
       "    .dataframe tbody tr th {\n",
       "        vertical-align: top;\n",
       "    }\n",
       "\n",
       "    .dataframe thead th {\n",
       "        text-align: right;\n",
       "    }\n",
       "</style>\n",
       "<table border=\"1\" class=\"dataframe\">\n",
       "  <thead>\n",
       "    <tr style=\"text-align: right;\">\n",
       "      <th></th>\n",
       "      <th>drug</th>\n",
       "      <th>disease</th>\n",
       "    </tr>\n",
       "  </thead>\n",
       "  <tbody>\n",
       "    <tr>\n",
       "      <th>49246</th>\n",
       "      <td>moxifloxacin</td>\n",
       "      <td>Rhinosinusitis</td>\n",
       "    </tr>\n",
       "    <tr>\n",
       "      <th>49247</th>\n",
       "      <td>duloxetine</td>\n",
       "      <td>Degenerative polyarthritis</td>\n",
       "    </tr>\n",
       "    <tr>\n",
       "      <th>49248</th>\n",
       "      <td>bendamustine</td>\n",
       "      <td>Diffuse Large B-Cell Lymphoma</td>\n",
       "    </tr>\n",
       "    <tr>\n",
       "      <th>49249</th>\n",
       "      <td>doxycycline</td>\n",
       "      <td>Skin lesion</td>\n",
       "    </tr>\n",
       "    <tr>\n",
       "      <th>49250</th>\n",
       "      <td>thiobutabarbital sodium</td>\n",
       "      <td>Sleep Initiation and Maintenance Disorders</td>\n",
       "    </tr>\n",
       "  </tbody>\n",
       "</table>\n",
       "</div>"
      ],
      "text/plain": [
       "                          drug                                     disease\n",
       "49246             moxifloxacin                              Rhinosinusitis\n",
       "49247               duloxetine                  Degenerative polyarthritis\n",
       "49248             bendamustine               Diffuse Large B-Cell Lymphoma\n",
       "49249              doxycycline                                 Skin lesion\n",
       "49250  thiobutabarbital sodium  Sleep Initiation and Maintenance Disorders"
      ]
     },
     "execution_count": 2,
     "metadata": {},
     "output_type": "execute_result"
    }
   ],
   "source": [
    "df = pd.read_csv(\"../data/final_data_clean.csv\")\n",
    "print(df.shape)\n",
    "df.tail()"
   ]
  },
  {
   "cell_type": "code",
   "execution_count": 3,
   "metadata": {},
   "outputs": [],
   "source": [
    "df = df.groupby('disease').head(10).reset_index(drop=True)"
   ]
  },
  {
   "cell_type": "code",
   "execution_count": 4,
   "metadata": {},
   "outputs": [],
   "source": [
    "df = df.sort_values(by=['disease', 'drug']).reset_index(drop=True)"
   ]
  },
  {
   "cell_type": "code",
   "execution_count": 5,
   "metadata": {},
   "outputs": [
    {
     "data": {
      "text/plain": [
       "(24220, 2)"
      ]
     },
     "execution_count": 5,
     "metadata": {},
     "output_type": "execute_result"
    }
   ],
   "source": [
    "df.shape"
   ]
  },
  {
   "cell_type": "code",
   "execution_count": null,
   "metadata": {},
   "outputs": [],
   "source": [
    "\"\"\"\n",
    "df_unique = df.groupby('disease').first().reset_index()\n",
    "\"\"\""
   ]
  },
  {
   "cell_type": "code",
   "execution_count": null,
   "metadata": {},
   "outputs": [],
   "source": [
    "\"\"\"\n",
    "print(df[\"disease\"].nunique())\n",
    "print(df_unique.shape[0])\n",
    "print(df_unique[\"disease\"].nunique())\n",
    "df_unique.tail()\n",
    "\"\"\""
   ]
  },
  {
   "cell_type": "code",
   "execution_count": null,
   "metadata": {},
   "outputs": [],
   "source": [
    "\"\"\"\n",
    "df_unique[[\"disease\", \"drug\"]].to_csv(\"final_data_to_fix.csv\", index=False)\n",
    "\"\"\""
   ]
  },
  {
   "cell_type": "code",
   "execution_count": null,
   "metadata": {},
   "outputs": [],
   "source": [
    "\"\"\"\n",
    "df_filtered = df_unique.head(2900)[[\"disease\", \"drug\"]]\n",
    "df_filtered = df_filtered.tail(100)\n",
    "df_filtered\n",
    "df_filtered.to_csv(\"batch_29.csv\", index=False)\n",
    "\"\"\""
   ]
  },
  {
   "cell_type": "code",
   "execution_count": 6,
   "metadata": {},
   "outputs": [],
   "source": [
    "drugs = [\"water\", \"oxygen\", \"Challenge\", \"Particle\", \"influenza A virus A/Delaware/55/2019 (H1N1) antigen\", \"Zaire ebolavirus (strain Kikwit-95) envelope glycoprotein\"]\n",
    "\n",
    "diseases = [\n",
    "    \"3 times\", \"6/5\", \"75+ years\", \"<12 months\", \"> 2 years\", \"Ability to walk (observable entity)\", \"Aboriginals\", \"Acaryochloris marina\", \"Accumulation\", \"Acetobacter pasteurianus\", \"Acomys\",\n",
    "    \"Actor\",\n",
    "    \"Adopted (finding)\", \"Affected Area\", \"African\", \"African American\",\n",
    "    \"American College of Cardiology/American Heart Association Lesion Complexity Score C\", \"American Ethnicity\", \"American Indians\", \"Alcohol Problem\", \"Alcohol or Other Drugs use\", \"Amputees\",\n",
    "    \"Anastomosis\", \"Ancestor\", \"Anesthesiologist\", \"Angiocardiography\", \"Antiparkinson Agents\", \"Antisocial behavior\",\n",
    "    \"Aortography\", \"Apathy\", \"Appendectomy\", \"Arthrography\", \"Asian People\", \"Asphyxia\", \"Assisted (qualifier value)\", \"Asthenic personality\", \"Atelerix albiventris\", \"Atherogenesis\",\n",
    "    \"Atrophic\", \"Australians\", \"Avulsed wound\", \"Awake (finding)\", \"Azospirillum brasilense\", \"Azotobacter vinelandii\", \"Bacteriophages\",\n",
    "    \"Basic learning\", \"Biologist (general)\", \"Binge drinker\", \"Binucleate cell\", \"Bioprosthetic\", \"Bison\", \"Black hairy tongue\", \"Bladder discomfort\", \"Bladder neck obstruction\", \"Blast Phase\", \"Blastocystis Infections\", \"Bleeder syndrome\", \"Bleeding Disorder\", \"Blood Coagulation Disorders\", \"Blood alcohol concentration\", \"Body Composition\", \"Body Dysmorphic Disorder\", \"Body Dysmorphic Disorders\", \"Body Imaging\", \"Body Substance Discharge\",\n",
    "    \"Borg Category-Ratio 10 Perceived Exertion Score 5\", \"Bos grunniens\", \"Bos indicus\", \"Brazilian people\", \"Buffaloes\",\n",
    "    \"Burkholderia pseudomallei\", \"Burning Mouth Syndrome\", \"Burns and Wounds\", \"Burns, Nitrogen Retention\", \"Calcified (qualifier value)\", \"Callithrix\", \"Callithrix jacchus jacchus\", \"Calmette-Guerin Bacillus\", \"Camels\", \"Camelus dromedarius\", \"Capreolus capreolus\", \"Carcinoma of unknown primary\", \"Carcinoma, Ehrlich Tumor\", \"Carcinoma, Spindle-Cell\",\n",
    "    \"Cardiac Events\", \"Cardiac Output\", \"Cardiac index\", \"Cardiologists\", \"Caregiver\", \"Cattle for beef production\", \"Cattle for milk production\", \"Caucasians\", \"Catalonian\", \"Cebidae\", \"Ceratotherium simum\",\n",
    "    \"Cervidae\", \"Cervus elaphus\", \"Cheetahs\", \"Chemist\", \"Chilean people\", \"Chinchilla <Chinchillidae>\", \"Chipmunks\", \"Chiroptera\", \"Chromobacterium violaceum\",\n",
    "    \"Chronic Condition\", \"Chronic insufficiency\",\n",
    "    \"Cleans drug injection equipment (finding)\", \"Clients\", \"Clinical Response\", \"Clinician\", \"Clonal Evolution\", \"Clostridium acetobutylicum\", \"Clostridium thermocellum\", \"Closure of Colostomy\", \"Co-morbid conditions\", \"Cocaine user\", \"Coinfection\", \"Coliform bacteria\", \"College student\", \"Collie\", \"Collision\", \"Colonization\", \"Comamonas testosteroni\",\n",
    "    \"Community\", \"Comorbidity\", \"Compassion Fatigue\", \"Computed Tomography\", \"Consideration\", \"Consumer\", \"Contraindicated\",\n",
    "    \"Cow for milk production\", \"Crewmember\", \"Cricetus cricetus\", \"Curb\", \"Cyst\", \"Cyanobacteria\", \"Dane people\", \"Death (finding)\", \"Decomposed body\",\n",
    "    \"Decreasing\", \"Dehiscence\", \"Dehydration\", \"Dentist\", \"Deodorants\", \"Dependence\", \"Dermatologist\", \"Descent\", \"Detected Finding\", \"Diabetic\",\n",
    "    \"Did not receive therapy or drug for\", \"Diestrus\", \"Diet, High-Fat\", \"Diet, Western\", \"Discontinued\", \"Disintegration (morphologic abnormality)\", \"Dislocations\", \"Dissection of aorta\", \"Diver (occupation)\", \"Does hit (finding)\", \"Does run (finding)\", \"Does stand\", \"Does turn (finding)\", \"Dog Tapeworm Infection (Dipylidium caninum)\", \"Dominance aggression\",\n",
    "    \"Drinker\", \"Drinking pattern\", \"Drinking session\", \"Drowning\", \"Drug abuser\", \"Drug addict\", \"Drug usage\", \"Dry cleaner\", \"Dysbiosis\", \"East African People\",\n",
    "    \"Educator\", \"Effective Communication\", \"Elephas maximus\", \"Emotional\", \"Employed\", \"Employer\", \"Employment status\", \"Encounter due to In vitro fertilization\", \"Encounter due to breast reduction\", \"Encounter due to drug use\", \"Encounter due to palliative care\", \"Encounter due to tobacco use\", \"Encounter for sterilization\", \"Engaged to be married\", \"Enterovirus\",\n",
    "    \"Equus asinus\", \"Erinaceidae\", \"Eutheria\", \"Ethnicity\", \"Ethanol increased\", \"Euthyroidism\",\n",
    "    \"Faculty\", \"Family Caregivers\", \"Family member\", \"Farmers\", \"Father (person)\",\n",
    "    \"Feeling suicidal (finding)\", \"Fetal Alcohol Syndrome\", \"Fetal Diseases\", \"Food-protein induced enterocolitis syndrome\", \"Former smoker\", \"Frailty\", \"Functional Status\",\n",
    "    \"Gastroschisis\", \"General Practice Physicians\", \"Genotoxicity\",\n",
    "    \"Good neonatal condition at birth\", \"Gorilla gorilla gorilla\", \"Graduate (person)\", \"Granulation finding\", \"Gravidity\", \"Greyhound\",\n",
    "    \"Handling\", \"Has difficulty doing (qualifier value)\", \"Health Personnel\", \"Health Services Accessibility\", \"Heart Injuries\", \"Height / growth measure\",\n",
    "    \"Hemodynamically stable\", \"Hepatic embolisation\", \"Hepatocarcinogenesis\", \"Herbal Supplementation\", \"Hereditary Diseases\", \"Hernia\",\n",
    "    \"Higher Risk Myelodysplastic Syndrome\", \"Hip Dislocation, Congenital\", \"High weight\", \"Histopathology\", \"History of previous events\", \"Hole Finding\", \"Household composition\", \"Households\", \"Hospital specialist\", \"Human epidermal growth factor 2 negative carcinoma of breast\", \"Hydration status\", \"Hyperalgesia, Thermal\", \"Hyperandrogenism\",\n",
    "    \"Hyponatraemic\", \"Hypokinesia, Antiorthostatic\", \"Hypopigmentation disorder\", \"Hypotensive\", \"Hypothermia, natural\", \"Hypothyroidism\", \"IUCD status\", \"Ideal Body Weight\", \"Illness (finding)\", \"Immune\", \"Immobile\",\n",
    "    \"Improved\", \"Incomplete passage of stool\", \"Increased risk\", \"Increased size (finding)\", \"Infantile Neuroaxonal Dystrophy\", \"Infected\", \"Influenza A Virus, H3N2 Subtype\",\n",
    "    \"Informal Caregivers\", \"Injecting drug user\", \"Injuries, Acute Brain\", \"Injury of stomach\", \"Insulator\", \"Insulin used\", \"Intentional overdose\", \"Intentional poisoning\", \"Invagination\", \"Irreversible pulpitis\",\n",
    "    \"Juvenile\", \"Knock-out\", \"Labrador retriever\", \"Lactation established in non-human animal\", \"Large-for-dates fetus\",\n",
    "    \"Latinos\", \"Lattice\", \"Learning Disabilities\", \"Lemurs\", \"Lesion of liver\", \"Leukoencephalopathy\", \"Leukopenia\", \"Leukoplakia\", \"Leukoplakia, Hairy\", \"Leukoplakia, Oral\", \"Light drinker\", \"Ligneous conjunctivitis\", \"Lipids outside reference range\",\n",
    "    \"Llamas\", \"Lung Injury\",\n",
    "    \"MISUSE\", \"Macaca\", \"Macaca fascicularis\", \"Macaca nemestrina\", \"Macaca radiata\", \"Maker (occupation)\",\n",
    "    \"Marines\", \"Medical pathologist\", \"Mediterranean\", \"Megaptera novaeangliae\", \"Memory Disorders\", \"Memory impairment\", \"Medical Condition\", \"Medical Procedures\",\n",
    "    \"Meriones\", \"Meriones unguiculatus\", \"Mesocricetus auratus\", \"Mexican Americans (ethnicity)\", \"Microcystis\", \"Microcystis aeruginosa\", \"Microtus\", \"Microtus ochrogaster\",\n",
    "    \"Middle Aged\", \"Migrants\", \"Mink\", \"Mixer (occupation)\", \"Mobility Limitation\", \"Moderate drinker\", \"Monozygotic twins\", \"Morbid obesity\", \"Morphologically altered structure\", \"Morton Neuroma\", \"Mountain Sickness / Altitude Sickness\", \"Mouth Diseases\", \"Movement Disorders\", \"Multiple Organ Failure\", \"Multiple Sclerosis, Primary Progressive\",\n",
    "    \"Muscle Endurance Measurement\", \"Muscle mass\", \"Mutant\", \"Mutation Abnormality\", \"Muscular fasciculation\", \"Musculoskeletal Diseases\", \"Muscular Atrophy\", \"Mydriasis\", \"Myelography\",\n",
    "    \"Neighbor\", \"Negative\", \"Neither Satisfied nor Dissatisfied\", \"Need for isolation\", \"Nasal symptom\", \"Nasal congestion (finding)\", \"Myotonus (finding)\", \"Negative Axillary Lymph Node\", \"Neoplasms, Experimental\", \"Neoplasms\", \"Neoplastic Cell Transformation\", \"Neoplasms, Therapy-Associated\",\n",
    "    \"Neurobehavioral Manifestations\", \"Neurological observations\", \"Neurologists\", \"Neurosecretory granule\", \"Neurosurgeon\", \"No incoordination\", \"No past history of\",\n",
    "    \"Noncommunicable Diseases\", \"Normal concentration\", \"Normal coronary arteries\", \"Normal general body function\", \"Normal ovary\", \"Normal pancreas\", \"Normal pregnancy\", \"Normal renal function\", \"Normal sinus rhythm\", \"Normal weight\", \"Nurses\", \"Nutrition Disorders\", \"Nutritional and Metabolic Diseases\", \"Nutritional status\", \"Obstetrician\", \"Occupational Exposure\", \"Octodon\", \"Octogenarians\", \"Odocoileus virginianus\", \"Offenders\", \"Older people\", \"Oncologists\",\n",
    "    \"Oophorectomy\", \"Ophthalmic Surgery\", \"Ophthalmic Surgical Staining\", \"Ophthalmic Viscoelastic Agent\", \"Opiate Addiction\", \"Opiate Overdose\", \"Opioid Overdose\", \"Opioid Use Disorder\", \"Opioid abuse\", \"Opioid toxicity\", \"Optic Nerve Injuries\", \"Oral and Dental Conditions\", \"Orthopedic Surgeons\", \"Orthopedic surgery physician\", \"Organ Transplant, Rejection Reversal\", \"Organizing Pneumonia\", \"Other prophylactic chemotherapy\", \"Outcome of Therapy\",\n",
    "    \"Overweight\", \"Ovulatory\", \"Overall Response\", \"Oxygen concentration\", \"Pain Threshold\", \"Pain level\", \"Pain score\", \"Pan paniscus\", \"Pan troglodytes\",\n",
    "    \"Partner in relationship\", \"Passive smoker\", \"Pathologic Processes\", \"Pathological Dilatation\", \"Pathological accumulation of air in tissues\", \"Peak expiratory flow rate\", \"Pectobacterium carotovorum\", \"Pediatrician (occupation)\", \"Peer\", \"Perceived quality of life\", \"Perforation (morphologic abnormality)\", \"Peripheral Angiography\", \"Peripheral Arteriography\", \"Peripheral Nervous System Diseases\",\n",
    "    \"Peripheral perfusion\", \"Periprosthetic osteolysis\", \"Peritoneal Diseases\", \"Personal Satisfaction\", \"Persistent Vegetative State\", \"Persistent Infection\", \"Persistent primary vitreous\", \"Pharmacist\", \"Phascolarctos cinereus\", \"Phodopus sungorus\", \"Physical function\", \"Physical shape\", \"Physicians\", \"Pilot\", \"Planktothrix\", \"Plant Diseases\", \"Plasma parathyroid hormone\",\n",
    "    \"Platelet volume\", \"Platelets, CTCAE\", \"Policy Makers\", \"Polar Bears\", \"Positron Emission Tomography Imaging\", \"Positron-Emission Tomography\", \"Possible\", \"Positive Lymph Node\", \"Positive-Pressure Respiration, Intrinsic\", \"Poor function\",\n",
    "    \"Practice nurse\", \"Practitioner\", \"Pre-op diagnosis\", \"Pregnancy Outcome\",\n",
    "    \"Primary Care Physicians\", \"Primigravida\", \"Primiparity\", \"Prior Therapy\", \"Prisoners\", \"Privacy\", \"Private Sector\", \"Private well\", \"Problem\", \"Producer\",\n",
    "    \"Protection\", \"Provider\", \"Provisional\", \"Psychiatrist\", \"Public Sector\", \"Puerto Ricans\",\n",
    "    \"Purging\", \"Pygmies\", \"Quality of sleep\", \"RNA Viruses\", \"Readiness\", \"Radiographic Exam\", \"Radionuclide Myocardial Perfusion Study\",\n",
    "    \"Refugees\", \"Reindeer\", \"Relative (related person)\", \"Relative humidity\", \"Renal Arteriography\", \"Reporter (occupation)\", \"Research Personnel\", \"Repeat treatment NOS\", \"Resting state\",\n",
    "    \"Rheumatologist\", \"Rhizobium\", \"Rhodobacter capsulatus\", \"Rhodobacter sphaeroides\", \"Rhodococcus equi\", \"Rhodospirillum rubrum\", \"Rhythm\", \"Rocky\", \"Rotavirus\", \"Ruminants\", \"Rural Communities\", \"Saccharopolyspora erythraea\",\n",
    "    \"Scientist\", \"Score\", \"Seals (Animal)\", \"Selenomonas ruminantium\", \"Seizure free\", \"Seizure frequency\",\n",
    "    \"Several days\", \"Severe (severity modifier)\", \"Sequela of disorder\", \"Serious Adverse Event\", \"Serratia\", \"Serratia species\", \"Signs and Symptoms\", \"Signs and Symptoms Associated with Chief Complaint\", \"Signs and Symptoms, Digestive\", \"Signs and Symptoms, Respiratory\", \"Short neck\", \"Shrews\", \"Sibling\", \"Sign or Symptom\", \"Sexual function\", \"Short menstrual periods\", \"Simple obesity\", \"Singleton\",\n",
    "    \"Sitting position\", \"Skier\", \"Slope\", \"Slowly progressive\", \"Sleep behavior finding\", \"Social Interaction\", \"Social Networks\", \"Social Stigma\", \"Social drinker\", \"Soldiers\", \"Son (person)\", \"South Asian People\",\n",
    "    \"Spastic syndrome\", \"Specific airway conductance\", \"Spheroids\", \"Sponsor (person)\", \"Spores, Bacterial\", \"Squirrels\", \"Stabilized (qualifier value)\", \"Staff\", \"Starvation\", \"Stasis\", \"Stella <Stellaceae>\",\n",
    "    \"Streptococcus\", \"Streptomyces\", \"Streptomyces albus\", \"Streptomyces ambofaciens\", \"Streptomyces antibioticus\", \"Streptomyces aureofaciens\", \"Streptomyces bingchenggensis\", \"Streptomyces calvus\", \"Streptomyces cattleya\", \"Streptomyces cinnamonensis\", \"Streptomyces coelicolor\", \"Streptomyces fradiae\", \"Streptomyces glaucescens\", \"Streptomyces lividans\", \"Streptomyces noursei\", \"Streptomyces species\", \"Students, Medical\", \"Students, Nursing\", \"Subgroup A Nepoviruses\", \"Submersion\",\n",
    "    \"Suncus murinus\", \"Superorder Marsupalia (organism)\", \"Surgeon\", \"Surrogate\", \"Sus scrofa\", \"Sus scrofa domestica\", \"Swimmer\", \"Teacher\", \"Team\", \"TEMPERATE CLIMATE\",\n",
    "    \"Test Result\", \"Thickened\", \"Thrombus\", \"Thyroid Gland Spindle Cell Tumor with Thymus-Like Differentiation\",\n",
    "    \"Total body water\", \"Total lipids\", \"Traffic\", \"Transgenic Model\", \"Treating Physician\",\n",
    "    \"Twin sibling (person)\", \"Uncertainty\", \"Unmarried person\",\n",
    "    \"Urologists\", \"Vaccinated (qualifier)\", \"Variovorax\", \"Vegan diet\", \"Vegetation\", \"Venography\", \"Very high\", \"Ventilator-Dependent\", \"Veterans\", \"Veterinarian\",\n",
    "    \"Vibrio anguillarum\", \"Vibrio cholerae\", \"Vibrio harveyi\", \"Victim of homicide\", \"Vicugna pacos\", \"Violence\", \"Virgin\", \"Vitality\", \"Vitamin A intake\", \"Waist Circumference\", \"Walking distance\", \"Water Buffalo\", \"Water Quality\", \"Water Stress\", \"Water retention (finding)\", \"Weaning diet\", \"Western society\", \"Wolves\", \"Woodchucks\", \"World\",\n",
    "    \"Youth\", \"Zalophus califonianus\", \"Zoonoses\", \"Zymomonas mobilis\", \"addict\", \"alcohol sensitivity\", \"antioxidant activity\", \"apprehension\", \"aspirin intolerance\", \"aspirin sensitivity\", \"asymptomatic hyperuricemia\", \"bacterial cell\", \"body mass\", \"brain-associated small-cell lung cancer antigen\", \"civilian\", \"combative\", \"depolarization\", \"dyads\", \"early adulthood\", \"early pregnancy\", \"effusion\", \"fluid electrolyte\", \"gastric distention\", \"gestation twin\", \"growth hormone treatment\", \"hearing impairment\", \"heavy drinking\", \"hemorrhage as a complication\", \"heroin abuse\", \"heroin withdrawal\", \"injured driver\",\n",
    "    \"inpatient\", \"knocked out\", \"manager\", \"marine Mammalia\", \"member\", \"medication use\", \"metaplastic cell transformation\", \"modern society\", \"multiple pathologies\", \"nursing home resident\", \"partial response\", \"photosynthetic bacteria\", \"physical symptom\", \"pony\", \"prenatal\", \"primary disorders\", \"professional occupation status\", \"protrusion\", \"radiologist\", \"rams\", \"risk factors\", \"sex\", \"shaker\", \"silence\", \"spinal model\", \"student\", \"tailor\", \"tourist\", \"traveler\", \"underage drinker\", \"unresponsive behavior\", \"victim\"\n",
    "]"
   ]
  },
  {
   "cell_type": "code",
   "execution_count": 7,
   "metadata": {},
   "outputs": [],
   "source": [
    "for disease in diseases:\n",
    "    df = df[df[\"disease\"] != disease].reset_index(drop=True)\n",
    "\n",
    "for drug in drugs:\n",
    "    df = df[df[\"drug\"] != drug].reset_index(drop=True)"
   ]
  },
  {
   "cell_type": "code",
   "execution_count": 9,
   "metadata": {},
   "outputs": [],
   "source": [
    "df = df[[\"disease\", \"drug\"]]"
   ]
  },
  {
   "cell_type": "code",
   "execution_count": 10,
   "metadata": {},
   "outputs": [],
   "source": [
    "df.to_csv(\"final_data_clean.csv\", index=False)"
   ]
  },
  {
   "cell_type": "code",
   "execution_count": null,
   "metadata": {},
   "outputs": [],
   "source": []
  }
 ],
 "metadata": {
  "kernelspec": {
   "display_name": "capstone-env",
   "language": "python",
   "name": "python3"
  },
  "language_info": {
   "codemirror_mode": {
    "name": "ipython",
    "version": 3
   },
   "file_extension": ".py",
   "mimetype": "text/x-python",
   "name": "python",
   "nbconvert_exporter": "python",
   "pygments_lexer": "ipython3",
   "version": "3.12.7"
  }
 },
 "nbformat": 4,
 "nbformat_minor": 2
}
