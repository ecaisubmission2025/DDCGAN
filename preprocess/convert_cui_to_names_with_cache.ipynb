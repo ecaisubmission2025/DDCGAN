{
 "cells": [
  {
   "cell_type": "code",
   "execution_count": null,
   "metadata": {},
   "outputs": [],
   "source": [
    "import pandas as pd\n",
    "import requests\n",
    "from concurrent.futures import ThreadPoolExecutor, as_completed\n",
    "from tqdm import tqdm"
   ]
  },
  {
   "cell_type": "code",
   "execution_count": null,
   "metadata": {},
   "outputs": [],
   "source": [
    "# Function to fetch CUI name with caching\n",
    "def get_cui_name(cui, api_key, cache):\n",
    "    if cui in cache:\n",
    "        return cache[cui]  # Return cached value if it exists\n",
    "\n",
    "    url = f\"https://uts-ws.nlm.nih.gov/rest/content/current/CUI/{cui}?apiKey={api_key}\"\n",
    "    try:\n",
    "        response = requests.get(url)\n",
    "        response.raise_for_status()\n",
    "        data = response.json()\n",
    "        name = data['result']['name']\n",
    "        cache[cui] = name  # Cache the fetched name\n",
    "        return name\n",
    "    except requests.exceptions.HTTPError:\n",
    "        print(f\"HTTP error occurred for CUI {cui}\")\n",
    "        cache[cui] = None  # Cache the failure as None\n",
    "        return None\n",
    "    except KeyError:\n",
    "        print(f\"Unexpected response format for CUI {cui}\")\n",
    "        cache[cui] = None  # Cache the failure as None\n",
    "        return None"
   ]
  },
  {
   "cell_type": "code",
   "execution_count": null,
   "metadata": {},
   "outputs": [],
   "source": [
    "# Parallelized function to convert SUBJECT_CUI and OBJECT_CUI to their names with caching\n",
    "def convert_cuis_to_names(df, api_key, max_workers=12):\n",
    "    cache = {}\n",
    "\n",
    "    def fetch_and_map_cui(cui, column_name):\n",
    "        name = get_cui_name(cui, api_key, cache)\n",
    "        return (cui, name, column_name)\n",
    "\n",
    "    with ThreadPoolExecutor(max_workers=max_workers) as executor:\n",
    "        futures = []\n",
    "        \n",
    "        for cui in df['SUBJECT_CUI']:\n",
    "            futures.append(executor.submit(fetch_and_map_cui, cui, 'drug'))\n",
    "        \n",
    "        for cui in df['OBJECT_CUI']:\n",
    "            futures.append(executor.submit(fetch_and_map_cui, cui, 'disease'))\n",
    "        \n",
    "        df['drug'] = None\n",
    "        df['disease'] = None\n",
    "\n",
    "        with tqdm(total=len(futures), desc=\"Fetching CUIs\", unit=\"CUI\") as pbar:\n",
    "            for future in as_completed(futures):\n",
    "                cui, name, column_name = future.result()\n",
    "                if column_name == 'drug':\n",
    "                    df.loc[df['SUBJECT_CUI'] == cui, 'drug'] = name\n",
    "                elif column_name == 'disease':\n",
    "                    df.loc[df['OBJECT_CUI'] == cui, 'disease'] = name\n",
    "                pbar.update(1)\n",
    "    \n",
    "    return df"
   ]
  },
  {
   "cell_type": "code",
   "execution_count": null,
   "metadata": {},
   "outputs": [],
   "source": [
    "df = pd.read_csv(\"../data/intended_data.csv\")\n",
    "df.shape"
   ]
  },
  {
   "cell_type": "code",
   "execution_count": null,
   "metadata": {},
   "outputs": [],
   "source": [
    "df.head()"
   ]
  },
  {
   "cell_type": "code",
   "execution_count": null,
   "metadata": {},
   "outputs": [],
   "source": [
    "api_key = ''\n",
    "\n",
    "# Convert CUIs to names\n",
    "df_with_names = convert_cuis_to_names(df, api_key, max_workers=12)"
   ]
  },
  {
   "cell_type": "code",
   "execution_count": null,
   "metadata": {},
   "outputs": [],
   "source": [
    "df_with_names.head()"
   ]
  },
  {
   "cell_type": "code",
   "execution_count": null,
   "metadata": {},
   "outputs": [],
   "source": [
    "df_with_names[\"disease\"].nunique()"
   ]
  },
  {
   "cell_type": "code",
   "execution_count": null,
   "metadata": {},
   "outputs": [],
   "source": [
    "df_with_names[\"disease\"].value_counts().head(20)"
   ]
  },
  {
   "cell_type": "code",
   "execution_count": null,
   "metadata": {},
   "outputs": [],
   "source": [
    "df_with_names.dropna(inplace=True)"
   ]
  },
  {
   "cell_type": "code",
   "execution_count": null,
   "metadata": {},
   "outputs": [],
   "source": [
    "df_with_names.to_csv(\"../data/intended_data_names.csv\", index=False)"
   ]
  },
  {
   "cell_type": "code",
   "execution_count": null,
   "metadata": {},
   "outputs": [],
   "source": []
  }
 ],
 "metadata": {
  "kernelspec": {
   "display_name": "capstone-env",
   "language": "python",
   "name": "python3"
  },
  "language_info": {
   "codemirror_mode": {
    "name": "ipython",
    "version": 3
   },
   "file_extension": ".py",
   "mimetype": "text/x-python",
   "name": "python",
   "nbconvert_exporter": "python",
   "pygments_lexer": "ipython3",
   "version": "3.12.7"
  }
 },
 "nbformat": 4,
 "nbformat_minor": 2
}
